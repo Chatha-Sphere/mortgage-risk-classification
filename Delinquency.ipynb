{
 "cells": [
  {
   "cell_type": "markdown",
   "metadata": {},
   "source": [
    "#### Introduction\n",
    "This notebook examines single-family loan data from Freddie Mac, mortgages originating from 2005-2012. Compares two different classification algorithms, random forest and logistic regression, to model & predict mortgage delinquencies. "
   ]
  },
  {
   "cell_type": "code",
   "execution_count": 1,
   "metadata": {
    "collapsed": true,
    "scrolled": false
   },
   "outputs": [],
   "source": [
    "import pandas as pd\n",
    "import numpy as np\n",
    "import os\n",
    "from IPython.display import display\n",
    "pd.options.mode.chained_assignment = None"
   ]
  },
  {
   "cell_type": "markdown",
   "metadata": {},
   "source": [
    "We incorporate average interest rates, for short-term and long-term mortgages, into the dataframe. "
   ]
  },
  {
   "cell_type": "code",
   "execution_count": 3,
   "metadata": {
    "scrolled": false
   },
   "outputs": [],
   "source": [
    "prim15 = pd.read_csv('data/primary15yr.txt', delimiter = '\\t')\n",
    "new_index = []\n",
    "for date in prim15['Date']:\n",
    "    new_date = date[-4:]+date[:2]\n",
    "    new_index.append(new_date)\n",
    "prim15 = prim15.assign(date=new_index)\n",
    "prim15['date'] = prim15['date'].astype(int)\n",
    "prim15 = prim15.drop('Date', axis=1)\n",
    "prim15.set_index('date', inplace=True)\n",
    "\n",
    "prim30 = pd.read_csv('data/primary30yr.txt', delimiter = '\\t')\n",
    "new_index = []\n",
    "for date in prim30['Date']:\n",
    "    new_date = date[-4:]+date[:2]\n",
    "    new_index.append(new_date)\n",
    "prim30 = prim30.assign(date=new_index)\n",
    "prim30['date'] = prim30['date'].astype(int)\n",
    "prim30 = prim30.drop('Date', axis=1)\n",
    "prim30.set_index('date', inplace=True)"
   ]
  },
  {
   "cell_type": "code",
   "execution_count": 7,
   "metadata": {
    "collapsed": true
   },
   "outputs": [],
   "source": [
    "df_raw = pd.read_csv('data/primary15yr.txt', delimiter = '\\t')"
   ]
  },
  {
   "cell_type": "code",
   "execution_count": 17,
   "metadata": {},
   "outputs": [],
   "source": [
    "df_raw.index = map(lambda x: x[-4:] + date[:2], df_raw[\"Date\"])"
   ]
  },
  {
   "cell_type": "code",
   "execution_count": 19,
   "metadata": {},
   "outputs": [
    {
     "data": {
      "text/plain": [
       "Int64Index([199106, 199106, 199106, 199106, 199206, 199206, 199206, 199206,\n",
       "            199206, 199206,\n",
       "            ...\n",
       "            201606, 201606, 201606, 201606, 201706, 201706, 201706, 201706,\n",
       "            201706, 201706],\n",
       "           dtype='int64', length=310)"
      ]
     },
     "execution_count": 19,
     "metadata": {},
     "output_type": "execute_result"
    }
   ],
   "source": [
    "df_raw.index.astype(int)"
   ]
  },
  {
   "cell_type": "code",
   "execution_count": 15,
   "metadata": {},
   "outputs": [
    {
     "data": {
      "text/plain": [
       "['199106',\n",
       " '199106',\n",
       " '199106',\n",
       " '199106',\n",
       " '199206',\n",
       " '199206',\n",
       " '199206',\n",
       " '199206',\n",
       " '199206',\n",
       " '199206',\n",
       " '199206',\n",
       " '199206',\n",
       " '199206',\n",
       " '199206',\n",
       " '199206',\n",
       " '199206',\n",
       " '199306',\n",
       " '199306',\n",
       " '199306',\n",
       " '199306',\n",
       " '199306',\n",
       " '199306',\n",
       " '199306',\n",
       " '199306',\n",
       " '199306',\n",
       " '199306',\n",
       " '199306',\n",
       " '199306',\n",
       " '199406',\n",
       " '199406',\n",
       " '199406',\n",
       " '199406',\n",
       " '199406',\n",
       " '199406',\n",
       " '199406',\n",
       " '199406',\n",
       " '199406',\n",
       " '199406',\n",
       " '199406',\n",
       " '199406',\n",
       " '199506',\n",
       " '199506',\n",
       " '199506',\n",
       " '199506',\n",
       " '199506',\n",
       " '199506',\n",
       " '199506',\n",
       " '199506',\n",
       " '199506',\n",
       " '199506',\n",
       " '199506',\n",
       " '199506',\n",
       " '199606',\n",
       " '199606',\n",
       " '199606',\n",
       " '199606',\n",
       " '199606',\n",
       " '199606',\n",
       " '199606',\n",
       " '199606',\n",
       " '199606',\n",
       " '199606',\n",
       " '199606',\n",
       " '199606',\n",
       " '199706',\n",
       " '199706',\n",
       " '199706',\n",
       " '199706',\n",
       " '199706',\n",
       " '199706',\n",
       " '199706',\n",
       " '199706',\n",
       " '199706',\n",
       " '199706',\n",
       " '199706',\n",
       " '199706',\n",
       " '199806',\n",
       " '199806',\n",
       " '199806',\n",
       " '199806',\n",
       " '199806',\n",
       " '199806',\n",
       " '199806',\n",
       " '199806',\n",
       " '199806',\n",
       " '199806',\n",
       " '199806',\n",
       " '199806',\n",
       " '199906',\n",
       " '199906',\n",
       " '199906',\n",
       " '199906',\n",
       " '199906',\n",
       " '199906',\n",
       " '199906',\n",
       " '199906',\n",
       " '199906',\n",
       " '199906',\n",
       " '199906',\n",
       " '199906',\n",
       " '200006',\n",
       " '200006',\n",
       " '200006',\n",
       " '200006',\n",
       " '200006',\n",
       " '200006',\n",
       " '200006',\n",
       " '200006',\n",
       " '200006',\n",
       " '200006',\n",
       " '200006',\n",
       " '200006',\n",
       " '200106',\n",
       " '200106',\n",
       " '200106',\n",
       " '200106',\n",
       " '200106',\n",
       " '200106',\n",
       " '200106',\n",
       " '200106',\n",
       " '200106',\n",
       " '200106',\n",
       " '200106',\n",
       " '200106',\n",
       " '200206',\n",
       " '200206',\n",
       " '200206',\n",
       " '200206',\n",
       " '200206',\n",
       " '200206',\n",
       " '200206',\n",
       " '200206',\n",
       " '200206',\n",
       " '200206',\n",
       " '200206',\n",
       " '200206',\n",
       " '200306',\n",
       " '200306',\n",
       " '200306',\n",
       " '200306',\n",
       " '200306',\n",
       " '200306',\n",
       " '200306',\n",
       " '200306',\n",
       " '200306',\n",
       " '200306',\n",
       " '200306',\n",
       " '200306',\n",
       " '200406',\n",
       " '200406',\n",
       " '200406',\n",
       " '200406',\n",
       " '200406',\n",
       " '200406',\n",
       " '200406',\n",
       " '200406',\n",
       " '200406',\n",
       " '200406',\n",
       " '200406',\n",
       " '200406',\n",
       " '200506',\n",
       " '200506',\n",
       " '200506',\n",
       " '200506',\n",
       " '200506',\n",
       " '200506',\n",
       " '200506',\n",
       " '200506',\n",
       " '200506',\n",
       " '200506',\n",
       " '200506',\n",
       " '200506',\n",
       " '200606',\n",
       " '200606',\n",
       " '200606',\n",
       " '200606',\n",
       " '200606',\n",
       " '200606',\n",
       " '200606',\n",
       " '200606',\n",
       " '200606',\n",
       " '200606',\n",
       " '200606',\n",
       " '200606',\n",
       " '200706',\n",
       " '200706',\n",
       " '200706',\n",
       " '200706',\n",
       " '200706',\n",
       " '200706',\n",
       " '200706',\n",
       " '200706',\n",
       " '200706',\n",
       " '200706',\n",
       " '200706',\n",
       " '200706',\n",
       " '200806',\n",
       " '200806',\n",
       " '200806',\n",
       " '200806',\n",
       " '200806',\n",
       " '200806',\n",
       " '200806',\n",
       " '200806',\n",
       " '200806',\n",
       " '200806',\n",
       " '200806',\n",
       " '200806',\n",
       " '200906',\n",
       " '200906',\n",
       " '200906',\n",
       " '200906',\n",
       " '200906',\n",
       " '200906',\n",
       " '200906',\n",
       " '200906',\n",
       " '200906',\n",
       " '200906',\n",
       " '200906',\n",
       " '200906',\n",
       " '201006',\n",
       " '201006',\n",
       " '201006',\n",
       " '201006',\n",
       " '201006',\n",
       " '201006',\n",
       " '201006',\n",
       " '201006',\n",
       " '201006',\n",
       " '201006',\n",
       " '201006',\n",
       " '201006',\n",
       " '201106',\n",
       " '201106',\n",
       " '201106',\n",
       " '201106',\n",
       " '201106',\n",
       " '201106',\n",
       " '201106',\n",
       " '201106',\n",
       " '201106',\n",
       " '201106',\n",
       " '201106',\n",
       " '201106',\n",
       " '201206',\n",
       " '201206',\n",
       " '201206',\n",
       " '201206',\n",
       " '201206',\n",
       " '201206',\n",
       " '201206',\n",
       " '201206',\n",
       " '201206',\n",
       " '201206',\n",
       " '201206',\n",
       " '201206',\n",
       " '201306',\n",
       " '201306',\n",
       " '201306',\n",
       " '201306',\n",
       " '201306',\n",
       " '201306',\n",
       " '201306',\n",
       " '201306',\n",
       " '201306',\n",
       " '201306',\n",
       " '201306',\n",
       " '201306',\n",
       " '201406',\n",
       " '201406',\n",
       " '201406',\n",
       " '201406',\n",
       " '201406',\n",
       " '201406',\n",
       " '201406',\n",
       " '201406',\n",
       " '201406',\n",
       " '201406',\n",
       " '201406',\n",
       " '201406',\n",
       " '201506',\n",
       " '201506',\n",
       " '201506',\n",
       " '201506',\n",
       " '201506',\n",
       " '201506',\n",
       " '201506',\n",
       " '201506',\n",
       " '201506',\n",
       " '201506',\n",
       " '201506',\n",
       " '201506',\n",
       " '201606',\n",
       " '201606',\n",
       " '201606',\n",
       " '201606',\n",
       " '201606',\n",
       " '201606',\n",
       " '201606',\n",
       " '201606',\n",
       " '201606',\n",
       " '201606',\n",
       " '201606',\n",
       " '201606',\n",
       " '201706',\n",
       " '201706',\n",
       " '201706',\n",
       " '201706',\n",
       " '201706',\n",
       " '201706']"
      ]
     },
     "execution_count": 15,
     "metadata": {},
     "output_type": "execute_result"
    }
   ],
   "source": [
    "map(lambda x: x[-4:] + date[:2], df_raw[\"Date\"])"
   ]
  },
  {
   "cell_type": "code",
   "execution_count": 5,
   "metadata": {},
   "outputs": [
    {
     "data": {
      "text/html": [
       "<div>\n",
       "<style>\n",
       "    .dataframe thead tr:only-child th {\n",
       "        text-align: right;\n",
       "    }\n",
       "\n",
       "    .dataframe thead th {\n",
       "        text-align: left;\n",
       "    }\n",
       "\n",
       "    .dataframe tbody tr th {\n",
       "        vertical-align: top;\n",
       "    }\n",
       "</style>\n",
       "<table border=\"1\" class=\"dataframe\">\n",
       "  <thead>\n",
       "    <tr style=\"text-align: right;\">\n",
       "      <th></th>\n",
       "      <th>Rate (Avg)</th>\n",
       "    </tr>\n",
       "    <tr>\n",
       "      <th>date</th>\n",
       "      <th></th>\n",
       "    </tr>\n",
       "  </thead>\n",
       "  <tbody>\n",
       "    <tr>\n",
       "      <th>199109</th>\n",
       "      <td>9.244</td>\n",
       "    </tr>\n",
       "    <tr>\n",
       "      <th>199110</th>\n",
       "      <td>9.044</td>\n",
       "    </tr>\n",
       "    <tr>\n",
       "      <th>199111</th>\n",
       "      <td>8.853</td>\n",
       "    </tr>\n",
       "    <tr>\n",
       "      <th>199112</th>\n",
       "      <td>8.593</td>\n",
       "    </tr>\n",
       "    <tr>\n",
       "      <th>199201</th>\n",
       "      <td>8.533</td>\n",
       "    </tr>\n",
       "  </tbody>\n",
       "</table>\n",
       "</div>"
      ],
      "text/plain": [
       "        Rate (Avg)\n",
       "date              \n",
       "199109       9.244\n",
       "199110       9.044\n",
       "199111       8.853\n",
       "199112       8.593\n",
       "199201       8.533"
      ]
     },
     "execution_count": 5,
     "metadata": {},
     "output_type": "execute_result"
    }
   ],
   "source": [
    "prim15.head()"
   ]
  },
  {
   "cell_type": "markdown",
   "metadata": {},
   "source": [
    "This is an index of housing prices by state. For Guam, Puerto Rico, the Virgin Islands, etc., we assume the national average. "
   ]
  },
  {
   "cell_type": "code",
   "execution_count": 3,
   "metadata": {},
   "outputs": [
    {
     "data": {
      "text/html": [
       "<div>\n",
       "<style>\n",
       "    .dataframe thead tr:only-child th {\n",
       "        text-align: right;\n",
       "    }\n",
       "\n",
       "    .dataframe thead th {\n",
       "        text-align: left;\n",
       "    }\n",
       "\n",
       "    .dataframe tbody tr th {\n",
       "        vertical-align: top;\n",
       "    }\n",
       "</style>\n",
       "<table border=\"1\" class=\"dataframe\">\n",
       "  <thead>\n",
       "    <tr style=\"text-align: right;\">\n",
       "      <th></th>\n",
       "      <th>AK</th>\n",
       "      <th>AL</th>\n",
       "      <th>AR</th>\n",
       "      <th>AZ</th>\n",
       "      <th>CA</th>\n",
       "      <th>CO</th>\n",
       "      <th>CT</th>\n",
       "      <th>DC</th>\n",
       "      <th>DE</th>\n",
       "      <th>FL</th>\n",
       "      <th>...</th>\n",
       "      <th>TN</th>\n",
       "      <th>TX</th>\n",
       "      <th>UT</th>\n",
       "      <th>VA</th>\n",
       "      <th>VI</th>\n",
       "      <th>VT</th>\n",
       "      <th>WA</th>\n",
       "      <th>WI</th>\n",
       "      <th>WV</th>\n",
       "      <th>WY</th>\n",
       "    </tr>\n",
       "    <tr>\n",
       "      <th>Date</th>\n",
       "      <th></th>\n",
       "      <th></th>\n",
       "      <th></th>\n",
       "      <th></th>\n",
       "      <th></th>\n",
       "      <th></th>\n",
       "      <th></th>\n",
       "      <th></th>\n",
       "      <th></th>\n",
       "      <th></th>\n",
       "      <th></th>\n",
       "      <th></th>\n",
       "      <th></th>\n",
       "      <th></th>\n",
       "      <th></th>\n",
       "      <th></th>\n",
       "      <th></th>\n",
       "      <th></th>\n",
       "      <th></th>\n",
       "      <th></th>\n",
       "      <th></th>\n",
       "    </tr>\n",
       "  </thead>\n",
       "  <tbody>\n",
       "    <tr>\n",
       "      <th>200101</th>\n",
       "      <td>138.20</td>\n",
       "      <td>143.95</td>\n",
       "      <td>142.28</td>\n",
       "      <td>157.16</td>\n",
       "      <td>126.56</td>\n",
       "      <td>221.67</td>\n",
       "      <td>119.00</td>\n",
       "      <td>138.14</td>\n",
       "      <td>123.42</td>\n",
       "      <td>142.26</td>\n",
       "      <td>...</td>\n",
       "      <td>148.04</td>\n",
       "      <td>144.30</td>\n",
       "      <td>195.76</td>\n",
       "      <td>133.37</td>\n",
       "      <td>145.6</td>\n",
       "      <td>125.21</td>\n",
       "      <td>156.73</td>\n",
       "      <td>167.79</td>\n",
       "      <td>139.55</td>\n",
       "      <td>168.38</td>\n",
       "    </tr>\n",
       "    <tr>\n",
       "      <th>200102</th>\n",
       "      <td>139.44</td>\n",
       "      <td>144.43</td>\n",
       "      <td>142.86</td>\n",
       "      <td>157.73</td>\n",
       "      <td>127.90</td>\n",
       "      <td>224.24</td>\n",
       "      <td>119.54</td>\n",
       "      <td>141.16</td>\n",
       "      <td>124.34</td>\n",
       "      <td>143.37</td>\n",
       "      <td>...</td>\n",
       "      <td>148.43</td>\n",
       "      <td>144.77</td>\n",
       "      <td>196.62</td>\n",
       "      <td>134.60</td>\n",
       "      <td>146.3</td>\n",
       "      <td>124.80</td>\n",
       "      <td>157.78</td>\n",
       "      <td>168.37</td>\n",
       "      <td>141.00</td>\n",
       "      <td>167.17</td>\n",
       "    </tr>\n",
       "    <tr>\n",
       "      <th>200103</th>\n",
       "      <td>141.25</td>\n",
       "      <td>145.17</td>\n",
       "      <td>143.17</td>\n",
       "      <td>159.02</td>\n",
       "      <td>129.54</td>\n",
       "      <td>225.97</td>\n",
       "      <td>121.31</td>\n",
       "      <td>143.22</td>\n",
       "      <td>124.93</td>\n",
       "      <td>144.74</td>\n",
       "      <td>...</td>\n",
       "      <td>148.88</td>\n",
       "      <td>145.84</td>\n",
       "      <td>197.42</td>\n",
       "      <td>136.19</td>\n",
       "      <td>147.6</td>\n",
       "      <td>128.02</td>\n",
       "      <td>158.59</td>\n",
       "      <td>169.88</td>\n",
       "      <td>140.32</td>\n",
       "      <td>169.26</td>\n",
       "    </tr>\n",
       "    <tr>\n",
       "      <th>200104</th>\n",
       "      <td>143.07</td>\n",
       "      <td>145.91</td>\n",
       "      <td>143.48</td>\n",
       "      <td>160.32</td>\n",
       "      <td>131.18</td>\n",
       "      <td>227.70</td>\n",
       "      <td>123.08</td>\n",
       "      <td>145.28</td>\n",
       "      <td>125.52</td>\n",
       "      <td>146.11</td>\n",
       "      <td>...</td>\n",
       "      <td>149.33</td>\n",
       "      <td>146.90</td>\n",
       "      <td>198.23</td>\n",
       "      <td>137.79</td>\n",
       "      <td>148.9</td>\n",
       "      <td>131.24</td>\n",
       "      <td>159.40</td>\n",
       "      <td>171.38</td>\n",
       "      <td>139.64</td>\n",
       "      <td>171.35</td>\n",
       "    </tr>\n",
       "    <tr>\n",
       "      <th>200105</th>\n",
       "      <td>144.88</td>\n",
       "      <td>146.65</td>\n",
       "      <td>143.79</td>\n",
       "      <td>161.61</td>\n",
       "      <td>132.82</td>\n",
       "      <td>229.43</td>\n",
       "      <td>124.85</td>\n",
       "      <td>147.34</td>\n",
       "      <td>126.11</td>\n",
       "      <td>147.48</td>\n",
       "      <td>...</td>\n",
       "      <td>149.79</td>\n",
       "      <td>147.97</td>\n",
       "      <td>199.04</td>\n",
       "      <td>139.39</td>\n",
       "      <td>150.3</td>\n",
       "      <td>134.46</td>\n",
       "      <td>160.21</td>\n",
       "      <td>172.89</td>\n",
       "      <td>138.96</td>\n",
       "      <td>173.45</td>\n",
       "    </tr>\n",
       "  </tbody>\n",
       "</table>\n",
       "<p>5 rows × 54 columns</p>\n",
       "</div>"
      ],
      "text/plain": [
       "            AK      AL      AR      AZ      CA      CO      CT      DC  \\\n",
       "Date                                                                     \n",
       "200101  138.20  143.95  142.28  157.16  126.56  221.67  119.00  138.14   \n",
       "200102  139.44  144.43  142.86  157.73  127.90  224.24  119.54  141.16   \n",
       "200103  141.25  145.17  143.17  159.02  129.54  225.97  121.31  143.22   \n",
       "200104  143.07  145.91  143.48  160.32  131.18  227.70  123.08  145.28   \n",
       "200105  144.88  146.65  143.79  161.61  132.82  229.43  124.85  147.34   \n",
       "\n",
       "            DE      FL   ...        TN      TX      UT      VA     VI      VT  \\\n",
       "Date                     ...                                                    \n",
       "200101  123.42  142.26   ...    148.04  144.30  195.76  133.37  145.6  125.21   \n",
       "200102  124.34  143.37   ...    148.43  144.77  196.62  134.60  146.3  124.80   \n",
       "200103  124.93  144.74   ...    148.88  145.84  197.42  136.19  147.6  128.02   \n",
       "200104  125.52  146.11   ...    149.33  146.90  198.23  137.79  148.9  131.24   \n",
       "200105  126.11  147.48   ...    149.79  147.97  199.04  139.39  150.3  134.46   \n",
       "\n",
       "            WA      WI      WV      WY  \n",
       "Date                                    \n",
       "200101  156.73  167.79  139.55  168.38  \n",
       "200102  157.78  168.37  141.00  167.17  \n",
       "200103  158.59  169.88  140.32  169.26  \n",
       "200104  159.40  171.38  139.64  171.35  \n",
       "200105  160.21  172.89  138.96  173.45  \n",
       "\n",
       "[5 rows x 54 columns]"
      ]
     },
     "execution_count": 3,
     "metadata": {},
     "output_type": "execute_result"
    }
   ],
   "source": [
    "state_hpi = pd.read_csv('state_hbi.csv')\n",
    "state_hpis= state_hpi.loc[312:]\n",
    "state_hpis.loc[:,'Date'] = state_hpis.apply(lambda x: x.loc['Date'][3:] + x.loc['Date'][:2], axis=1)\n",
    "#state_hpi_06.loc[:,'Date'] = state_hpi_06.apply(lambda x: x.loc['Date'][3:] + x.loc['Date'][:2], axis=1)\n",
    "state_hpis.Date=state_hpis.Date.astype(int, copy=False)\n",
    "state_hpis.set_index('Date', inplace = True)\n",
    "#for loans in Guam,Puerto Rico, & the Virgin Islands, I set 'state' hpi to national levels. \n",
    "state_hpis.head()"
   ]
  },
  {
   "cell_type": "code",
   "execution_count": 4,
   "metadata": {},
   "outputs": [
    {
     "data": {
      "text/html": [
       "<div>\n",
       "<style>\n",
       "    .dataframe thead tr:only-child th {\n",
       "        text-align: right;\n",
       "    }\n",
       "\n",
       "    .dataframe thead th {\n",
       "        text-align: left;\n",
       "    }\n",
       "\n",
       "    .dataframe tbody tr th {\n",
       "        vertical-align: top;\n",
       "    }\n",
       "</style>\n",
       "<table border=\"1\" class=\"dataframe\">\n",
       "  <thead>\n",
       "    <tr style=\"text-align: right;\">\n",
       "      <th></th>\n",
       "      <th>AK</th>\n",
       "      <th>AL</th>\n",
       "      <th>AR</th>\n",
       "      <th>AZ</th>\n",
       "      <th>CA</th>\n",
       "      <th>CO</th>\n",
       "      <th>CT</th>\n",
       "      <th>DC</th>\n",
       "      <th>DE</th>\n",
       "      <th>FL</th>\n",
       "      <th>...</th>\n",
       "      <th>TN</th>\n",
       "      <th>TX</th>\n",
       "      <th>UT</th>\n",
       "      <th>VA</th>\n",
       "      <th>VI</th>\n",
       "      <th>VT</th>\n",
       "      <th>WA</th>\n",
       "      <th>WI</th>\n",
       "      <th>WV</th>\n",
       "      <th>WY</th>\n",
       "    </tr>\n",
       "    <tr>\n",
       "      <th>Date</th>\n",
       "      <th></th>\n",
       "      <th></th>\n",
       "      <th></th>\n",
       "      <th></th>\n",
       "      <th></th>\n",
       "      <th></th>\n",
       "      <th></th>\n",
       "      <th></th>\n",
       "      <th></th>\n",
       "      <th></th>\n",
       "      <th></th>\n",
       "      <th></th>\n",
       "      <th></th>\n",
       "      <th></th>\n",
       "      <th></th>\n",
       "      <th></th>\n",
       "      <th></th>\n",
       "      <th></th>\n",
       "      <th></th>\n",
       "      <th></th>\n",
       "      <th></th>\n",
       "    </tr>\n",
       "  </thead>\n",
       "  <tbody>\n",
       "    <tr>\n",
       "      <th>200101</th>\n",
       "      <td>1.000000</td>\n",
       "      <td>1.000000</td>\n",
       "      <td>1.000000</td>\n",
       "      <td>1.000000</td>\n",
       "      <td>1.000000</td>\n",
       "      <td>1.000000</td>\n",
       "      <td>1.000000</td>\n",
       "      <td>1.000000</td>\n",
       "      <td>1.000000</td>\n",
       "      <td>1.000000</td>\n",
       "      <td>...</td>\n",
       "      <td>1.000000</td>\n",
       "      <td>1.000000</td>\n",
       "      <td>1.000000</td>\n",
       "      <td>1.000000</td>\n",
       "      <td>1.000000</td>\n",
       "      <td>1.000000</td>\n",
       "      <td>1.000000</td>\n",
       "      <td>1.000000</td>\n",
       "      <td>1.000000</td>\n",
       "      <td>1.000000</td>\n",
       "    </tr>\n",
       "    <tr>\n",
       "      <th>200102</th>\n",
       "      <td>1.008973</td>\n",
       "      <td>1.003334</td>\n",
       "      <td>1.004076</td>\n",
       "      <td>1.003627</td>\n",
       "      <td>1.010588</td>\n",
       "      <td>1.011594</td>\n",
       "      <td>1.004538</td>\n",
       "      <td>1.021862</td>\n",
       "      <td>1.007454</td>\n",
       "      <td>1.007803</td>\n",
       "      <td>...</td>\n",
       "      <td>1.002634</td>\n",
       "      <td>1.003257</td>\n",
       "      <td>1.004393</td>\n",
       "      <td>1.009222</td>\n",
       "      <td>1.004808</td>\n",
       "      <td>0.996726</td>\n",
       "      <td>1.006699</td>\n",
       "      <td>1.003457</td>\n",
       "      <td>1.010391</td>\n",
       "      <td>0.992814</td>\n",
       "    </tr>\n",
       "    <tr>\n",
       "      <th>200103</th>\n",
       "      <td>1.012980</td>\n",
       "      <td>1.005124</td>\n",
       "      <td>1.002170</td>\n",
       "      <td>1.008179</td>\n",
       "      <td>1.012823</td>\n",
       "      <td>1.007715</td>\n",
       "      <td>1.014807</td>\n",
       "      <td>1.014593</td>\n",
       "      <td>1.004745</td>\n",
       "      <td>1.009556</td>\n",
       "      <td>...</td>\n",
       "      <td>1.003032</td>\n",
       "      <td>1.007391</td>\n",
       "      <td>1.004069</td>\n",
       "      <td>1.011813</td>\n",
       "      <td>1.008886</td>\n",
       "      <td>1.025801</td>\n",
       "      <td>1.005134</td>\n",
       "      <td>1.008968</td>\n",
       "      <td>0.995177</td>\n",
       "      <td>1.012502</td>\n",
       "    </tr>\n",
       "    <tr>\n",
       "      <th>200104</th>\n",
       "      <td>1.012885</td>\n",
       "      <td>1.005097</td>\n",
       "      <td>1.002165</td>\n",
       "      <td>1.008175</td>\n",
       "      <td>1.012660</td>\n",
       "      <td>1.007656</td>\n",
       "      <td>1.014591</td>\n",
       "      <td>1.014383</td>\n",
       "      <td>1.004723</td>\n",
       "      <td>1.009465</td>\n",
       "      <td>...</td>\n",
       "      <td>1.003023</td>\n",
       "      <td>1.007268</td>\n",
       "      <td>1.004103</td>\n",
       "      <td>1.011748</td>\n",
       "      <td>1.008808</td>\n",
       "      <td>1.025152</td>\n",
       "      <td>1.005108</td>\n",
       "      <td>1.008830</td>\n",
       "      <td>0.995154</td>\n",
       "      <td>1.012348</td>\n",
       "    </tr>\n",
       "    <tr>\n",
       "      <th>200105</th>\n",
       "      <td>1.012651</td>\n",
       "      <td>1.005072</td>\n",
       "      <td>1.002161</td>\n",
       "      <td>1.008046</td>\n",
       "      <td>1.012502</td>\n",
       "      <td>1.007598</td>\n",
       "      <td>1.014381</td>\n",
       "      <td>1.014180</td>\n",
       "      <td>1.004700</td>\n",
       "      <td>1.009376</td>\n",
       "      <td>...</td>\n",
       "      <td>1.003080</td>\n",
       "      <td>1.007284</td>\n",
       "      <td>1.004086</td>\n",
       "      <td>1.011612</td>\n",
       "      <td>1.009402</td>\n",
       "      <td>1.024535</td>\n",
       "      <td>1.005082</td>\n",
       "      <td>1.008811</td>\n",
       "      <td>0.995130</td>\n",
       "      <td>1.012256</td>\n",
       "    </tr>\n",
       "  </tbody>\n",
       "</table>\n",
       "<p>5 rows × 54 columns</p>\n",
       "</div>"
      ],
      "text/plain": [
       "              AK        AL        AR        AZ        CA        CO        CT  \\\n",
       "Date                                                                           \n",
       "200101  1.000000  1.000000  1.000000  1.000000  1.000000  1.000000  1.000000   \n",
       "200102  1.008973  1.003334  1.004076  1.003627  1.010588  1.011594  1.004538   \n",
       "200103  1.012980  1.005124  1.002170  1.008179  1.012823  1.007715  1.014807   \n",
       "200104  1.012885  1.005097  1.002165  1.008175  1.012660  1.007656  1.014591   \n",
       "200105  1.012651  1.005072  1.002161  1.008046  1.012502  1.007598  1.014381   \n",
       "\n",
       "              DC        DE        FL    ...           TN        TX        UT  \\\n",
       "Date                                    ...                                    \n",
       "200101  1.000000  1.000000  1.000000    ...     1.000000  1.000000  1.000000   \n",
       "200102  1.021862  1.007454  1.007803    ...     1.002634  1.003257  1.004393   \n",
       "200103  1.014593  1.004745  1.009556    ...     1.003032  1.007391  1.004069   \n",
       "200104  1.014383  1.004723  1.009465    ...     1.003023  1.007268  1.004103   \n",
       "200105  1.014180  1.004700  1.009376    ...     1.003080  1.007284  1.004086   \n",
       "\n",
       "              VA        VI        VT        WA        WI        WV        WY  \n",
       "Date                                                                          \n",
       "200101  1.000000  1.000000  1.000000  1.000000  1.000000  1.000000  1.000000  \n",
       "200102  1.009222  1.004808  0.996726  1.006699  1.003457  1.010391  0.992814  \n",
       "200103  1.011813  1.008886  1.025801  1.005134  1.008968  0.995177  1.012502  \n",
       "200104  1.011748  1.008808  1.025152  1.005108  1.008830  0.995154  1.012348  \n",
       "200105  1.011612  1.009402  1.024535  1.005082  1.008811  0.995130  1.012256  \n",
       "\n",
       "[5 rows x 54 columns]"
      ]
     },
     "execution_count": 4,
     "metadata": {},
     "output_type": "execute_result"
    }
   ],
   "source": [
    "state_hpas = pd.DataFrame(index = state_hpis.index)\n",
    "for column in state_hpis.columns:\n",
    "    old = state_hpis[column]\n",
    "    shifted = old.shift(1)\n",
    "    new = old / shifted\n",
    "    state_hpas[column] = new\n",
    "state_hpas.loc[200101] = 1\n",
    "state_hpas.head()"
   ]
  },
  {
   "cell_type": "code",
   "execution_count": 5,
   "metadata": {},
   "outputs": [
    {
     "data": {
      "text/html": [
       "<div>\n",
       "<style>\n",
       "    .dataframe thead tr:only-child th {\n",
       "        text-align: right;\n",
       "    }\n",
       "\n",
       "    .dataframe thead th {\n",
       "        text-align: left;\n",
       "    }\n",
       "\n",
       "    .dataframe tbody tr th {\n",
       "        vertical-align: top;\n",
       "    }\n",
       "</style>\n",
       "<table border=\"1\" class=\"dataframe\">\n",
       "  <thead>\n",
       "    <tr style=\"text-align: right;\">\n",
       "      <th></th>\n",
       "      <th>hpa</th>\n",
       "      <th>state</th>\n",
       "    </tr>\n",
       "    <tr>\n",
       "      <th>Date</th>\n",
       "      <th></th>\n",
       "      <th></th>\n",
       "    </tr>\n",
       "  </thead>\n",
       "  <tbody>\n",
       "    <tr>\n",
       "      <th>200101</th>\n",
       "      <td>1.000000</td>\n",
       "      <td>AK</td>\n",
       "    </tr>\n",
       "    <tr>\n",
       "      <th>200102</th>\n",
       "      <td>1.008973</td>\n",
       "      <td>AK</td>\n",
       "    </tr>\n",
       "    <tr>\n",
       "      <th>200103</th>\n",
       "      <td>1.012980</td>\n",
       "      <td>AK</td>\n",
       "    </tr>\n",
       "    <tr>\n",
       "      <th>200104</th>\n",
       "      <td>1.012885</td>\n",
       "      <td>AK</td>\n",
       "    </tr>\n",
       "    <tr>\n",
       "      <th>200105</th>\n",
       "      <td>1.012651</td>\n",
       "      <td>AK</td>\n",
       "    </tr>\n",
       "  </tbody>\n",
       "</table>\n",
       "</div>"
      ],
      "text/plain": [
       "             hpa state\n",
       "Date                  \n",
       "200101  1.000000    AK\n",
       "200102  1.008973    AK\n",
       "200103  1.012980    AK\n",
       "200104  1.012885    AK\n",
       "200105  1.012651    AK"
      ]
     },
     "execution_count": 5,
     "metadata": {},
     "output_type": "execute_result"
    }
   ],
   "source": [
    "#unzips the state hpa data\n",
    "index = state_hpas.index\n",
    "lyst = []\n",
    "for state in state_hpas.columns:\n",
    "    series1 = state_hpas[state]\n",
    "    series1.name='hpa'\n",
    "    series2 = pd.Series(state, index=index)\n",
    "    series2.name = 'state'\n",
    "    frame = pd.concat([series1, series2], axis=1)\n",
    "    lyst.append(frame)\n",
    "state_hpas = pd.concat(lyst)\n",
    "state_hpas.head()"
   ]
  },
  {
   "cell_type": "code",
   "execution_count": 6,
   "metadata": {
    "collapsed": true,
    "scrolled": false
   },
   "outputs": [],
   "source": [
    "#multi index magic\n",
    "tuples = zip(state_hpas.index,state_hpas.state.values)\n",
    "index1 = pd.MultiIndex.from_tuples(tuples, names = ['first payment date', 'property state'])\n",
    "index2 = pd.MultiIndex.from_tuples(tuples, names = ['monthly reporting period', 'property state'])\n",
    "s_multi_orig = pd.Series(state_hpas.hpa.values, index = index1, name='original hpa')\n",
    "s_multi_mp = pd.Series(state_hpas.hpa.values, index = index2, name = 'current hpa')"
   ]
  },
  {
   "cell_type": "code",
   "execution_count": 7,
   "metadata": {},
   "outputs": [
    {
     "data": {
      "text/html": [
       "<div>\n",
       "<style>\n",
       "    .dataframe thead tr:only-child th {\n",
       "        text-align: right;\n",
       "    }\n",
       "\n",
       "    .dataframe thead th {\n",
       "        text-align: left;\n",
       "    }\n",
       "\n",
       "    .dataframe tbody tr th {\n",
       "        vertical-align: top;\n",
       "    }\n",
       "</style>\n",
       "<table border=\"1\" class=\"dataframe\">\n",
       "  <thead>\n",
       "    <tr style=\"text-align: right;\">\n",
       "      <th></th>\n",
       "      <th>State</th>\n",
       "      <th>Mnth</th>\n",
       "      <th>DataYear</th>\n",
       "      <th>UnemploymentRate</th>\n",
       "      <th>month</th>\n",
       "    </tr>\n",
       "    <tr>\n",
       "      <th>Date</th>\n",
       "      <th></th>\n",
       "      <th></th>\n",
       "      <th></th>\n",
       "      <th></th>\n",
       "      <th></th>\n",
       "    </tr>\n",
       "  </thead>\n",
       "  <tbody>\n",
       "    <tr>\n",
       "      <th>199001</th>\n",
       "      <td>AK</td>\n",
       "      <td>JAN</td>\n",
       "      <td>1990</td>\n",
       "      <td>8.5</td>\n",
       "      <td>1</td>\n",
       "    </tr>\n",
       "    <tr>\n",
       "      <th>199002</th>\n",
       "      <td>AK</td>\n",
       "      <td>FEB</td>\n",
       "      <td>1990</td>\n",
       "      <td>8.6</td>\n",
       "      <td>2</td>\n",
       "    </tr>\n",
       "    <tr>\n",
       "      <th>199003</th>\n",
       "      <td>AK</td>\n",
       "      <td>MAR</td>\n",
       "      <td>1990</td>\n",
       "      <td>8.2</td>\n",
       "      <td>3</td>\n",
       "    </tr>\n",
       "    <tr>\n",
       "      <th>199004</th>\n",
       "      <td>AK</td>\n",
       "      <td>APR</td>\n",
       "      <td>1990</td>\n",
       "      <td>7.6</td>\n",
       "      <td>4</td>\n",
       "    </tr>\n",
       "    <tr>\n",
       "      <th>199005</th>\n",
       "      <td>AK</td>\n",
       "      <td>MAY</td>\n",
       "      <td>1990</td>\n",
       "      <td>7.2</td>\n",
       "      <td>5</td>\n",
       "    </tr>\n",
       "  </tbody>\n",
       "</table>\n",
       "</div>"
      ],
      "text/plain": [
       "       State Mnth  DataYear  UnemploymentRate  month\n",
       "Date                                                \n",
       "199001    AK  JAN      1990               8.5      1\n",
       "199002    AK  FEB      1990               8.6      2\n",
       "199003    AK  MAR      1990               8.2      3\n",
       "199004    AK  APR      1990               7.6      4\n",
       "199005    AK  MAY      1990               7.2      5"
      ]
     },
     "execution_count": 7,
     "metadata": {},
     "output_type": "execute_result"
    }
   ],
   "source": [
    "state_uer = pd.read_csv('state_uer.csv')\n",
    "months = {'JAN':1,'FEB':2,'MAR':3,'APR':4,'MAY':5,'JUN':6,'JUL':7,'AUG':8,'SEP':9,'OCT':10,'NOV':11,'DEC':12}\n",
    "state_uer['month'] = state_uer.Mnth.map(months)\n",
    "state_uer['Date'] = 100*state_uer['DataYear'].values + state_uer['month'].values\n",
    "state_uer.set_index('Date', inplace=True)\n",
    "state_uer.head()"
   ]
  },
  {
   "cell_type": "code",
   "execution_count": 8,
   "metadata": {},
   "outputs": [
    {
     "data": {
      "text/html": [
       "<div>\n",
       "<style>\n",
       "    .dataframe thead tr:only-child th {\n",
       "        text-align: right;\n",
       "    }\n",
       "\n",
       "    .dataframe thead th {\n",
       "        text-align: left;\n",
       "    }\n",
       "\n",
       "    .dataframe tbody tr th {\n",
       "        vertical-align: top;\n",
       "    }\n",
       "</style>\n",
       "<table border=\"1\" class=\"dataframe\">\n",
       "  <thead>\n",
       "    <tr style=\"text-align: right;\">\n",
       "      <th></th>\n",
       "      <th>Unemployment</th>\n",
       "    </tr>\n",
       "    <tr>\n",
       "      <th>Date</th>\n",
       "      <th></th>\n",
       "    </tr>\n",
       "  </thead>\n",
       "  <tbody>\n",
       "    <tr>\n",
       "      <th>198301</th>\n",
       "      <td>10.4</td>\n",
       "    </tr>\n",
       "    <tr>\n",
       "      <th>198302</th>\n",
       "      <td>10.4</td>\n",
       "    </tr>\n",
       "    <tr>\n",
       "      <th>198303</th>\n",
       "      <td>10.3</td>\n",
       "    </tr>\n",
       "    <tr>\n",
       "      <th>198304</th>\n",
       "      <td>10.2</td>\n",
       "    </tr>\n",
       "    <tr>\n",
       "      <th>198305</th>\n",
       "      <td>10.1</td>\n",
       "    </tr>\n",
       "  </tbody>\n",
       "</table>\n",
       "</div>"
      ],
      "text/plain": [
       "        Unemployment\n",
       "Date                \n",
       "198301          10.4\n",
       "198302          10.4\n",
       "198303          10.3\n",
       "198304          10.2\n",
       "198305          10.1"
      ]
     },
     "execution_count": 8,
     "metadata": {},
     "output_type": "execute_result"
    }
   ],
   "source": [
    "uer = pd.read_csv('UnemploymentHistory.txt', delimiter = \"\\t\")\n",
    "uer.loc[:,'Date'] = uer.apply(lambda x: x.loc['Date'][3:] + x.loc['Date'][:2], axis=1)\n",
    "uer.Date = uer.Date.astype(int, copy=False)\n",
    "uer.set_index('Date', inplace=True)\n",
    "uer.head()"
   ]
  },
  {
   "cell_type": "code",
   "execution_count": 9,
   "metadata": {
    "collapsed": true,
    "scrolled": false
   },
   "outputs": [],
   "source": [
    "temp_index = []\n",
    "for year in range(1990,2018):\n",
    "    for month in range(1,13):\n",
    "        mrp = year*100 + month\n",
    "        temp_index.append(mrp)\n",
    "        if mrp == 201705:\n",
    "            break\n",
    "temp_index = np.array(temp_index)"
   ]
  },
  {
   "cell_type": "code",
   "execution_count": 10,
   "metadata": {},
   "outputs": [
    {
     "data": {
      "text/html": [
       "<div>\n",
       "<style>\n",
       "    .dataframe thead tr:only-child th {\n",
       "        text-align: right;\n",
       "    }\n",
       "\n",
       "    .dataframe thead th {\n",
       "        text-align: left;\n",
       "    }\n",
       "\n",
       "    .dataframe tbody tr th {\n",
       "        vertical-align: top;\n",
       "    }\n",
       "</style>\n",
       "<table border=\"1\" class=\"dataframe\">\n",
       "  <thead>\n",
       "    <tr style=\"text-align: right;\">\n",
       "      <th></th>\n",
       "      <th>AK</th>\n",
       "      <th>AL</th>\n",
       "      <th>AR</th>\n",
       "      <th>AZ</th>\n",
       "      <th>CA</th>\n",
       "      <th>CO</th>\n",
       "      <th>CT</th>\n",
       "      <th>DC</th>\n",
       "      <th>DE</th>\n",
       "      <th>FL</th>\n",
       "      <th>...</th>\n",
       "      <th>SD</th>\n",
       "      <th>TN</th>\n",
       "      <th>TX</th>\n",
       "      <th>UT</th>\n",
       "      <th>VA</th>\n",
       "      <th>VT</th>\n",
       "      <th>WA</th>\n",
       "      <th>WI</th>\n",
       "      <th>WV</th>\n",
       "      <th>WY</th>\n",
       "    </tr>\n",
       "  </thead>\n",
       "  <tbody>\n",
       "    <tr>\n",
       "      <th>199001</th>\n",
       "      <td>8.5</td>\n",
       "      <td>6.9</td>\n",
       "      <td>7.5</td>\n",
       "      <td>5.6</td>\n",
       "      <td>5.7</td>\n",
       "      <td>6.2</td>\n",
       "      <td>5.3</td>\n",
       "      <td>5.5</td>\n",
       "      <td>4.6</td>\n",
       "      <td>5.9</td>\n",
       "      <td>...</td>\n",
       "      <td>4.6</td>\n",
       "      <td>5.6</td>\n",
       "      <td>6.6</td>\n",
       "      <td>4.8</td>\n",
       "      <td>4.5</td>\n",
       "      <td>5.2</td>\n",
       "      <td>6.3</td>\n",
       "      <td>5.1</td>\n",
       "      <td>8.8</td>\n",
       "      <td>6.9</td>\n",
       "    </tr>\n",
       "    <tr>\n",
       "      <th>199002</th>\n",
       "      <td>8.6</td>\n",
       "      <td>7.5</td>\n",
       "      <td>7.5</td>\n",
       "      <td>5.3</td>\n",
       "      <td>5.6</td>\n",
       "      <td>5.9</td>\n",
       "      <td>5.3</td>\n",
       "      <td>5.7</td>\n",
       "      <td>4.4</td>\n",
       "      <td>5.7</td>\n",
       "      <td>...</td>\n",
       "      <td>4.4</td>\n",
       "      <td>5.5</td>\n",
       "      <td>6.6</td>\n",
       "      <td>5</td>\n",
       "      <td>4.2</td>\n",
       "      <td>5.3</td>\n",
       "      <td>6.5</td>\n",
       "      <td>5.2</td>\n",
       "      <td>8.9</td>\n",
       "      <td>6.6</td>\n",
       "    </tr>\n",
       "    <tr>\n",
       "      <th>199003</th>\n",
       "      <td>8.2</td>\n",
       "      <td>6.8</td>\n",
       "      <td>7</td>\n",
       "      <td>5.1</td>\n",
       "      <td>5.4</td>\n",
       "      <td>5.8</td>\n",
       "      <td>5</td>\n",
       "      <td>5.8</td>\n",
       "      <td>4</td>\n",
       "      <td>5.5</td>\n",
       "      <td>...</td>\n",
       "      <td>4.4</td>\n",
       "      <td>4.9</td>\n",
       "      <td>6.2</td>\n",
       "      <td>4.7</td>\n",
       "      <td>3.9</td>\n",
       "      <td>5.4</td>\n",
       "      <td>5.8</td>\n",
       "      <td>5.1</td>\n",
       "      <td>8</td>\n",
       "      <td>6.3</td>\n",
       "    </tr>\n",
       "    <tr>\n",
       "      <th>199004</th>\n",
       "      <td>7.6</td>\n",
       "      <td>6.3</td>\n",
       "      <td>6.7</td>\n",
       "      <td>5.1</td>\n",
       "      <td>5.4</td>\n",
       "      <td>5.2</td>\n",
       "      <td>4.9</td>\n",
       "      <td>5.6</td>\n",
       "      <td>3.7</td>\n",
       "      <td>5.7</td>\n",
       "      <td>...</td>\n",
       "      <td>3.8</td>\n",
       "      <td>5.2</td>\n",
       "      <td>6.1</td>\n",
       "      <td>4.5</td>\n",
       "      <td>3.7</td>\n",
       "      <td>5.3</td>\n",
       "      <td>5.1</td>\n",
       "      <td>4.3</td>\n",
       "      <td>7.8</td>\n",
       "      <td>5.5</td>\n",
       "    </tr>\n",
       "    <tr>\n",
       "      <th>199005</th>\n",
       "      <td>7.2</td>\n",
       "      <td>6.2</td>\n",
       "      <td>6.7</td>\n",
       "      <td>5.1</td>\n",
       "      <td>5.2</td>\n",
       "      <td>5.1</td>\n",
       "      <td>5</td>\n",
       "      <td>6</td>\n",
       "      <td>3.4</td>\n",
       "      <td>5.7</td>\n",
       "      <td>...</td>\n",
       "      <td>3.8</td>\n",
       "      <td>5</td>\n",
       "      <td>6.2</td>\n",
       "      <td>4.4</td>\n",
       "      <td>4</td>\n",
       "      <td>4.8</td>\n",
       "      <td>5</td>\n",
       "      <td>3.8</td>\n",
       "      <td>7.7</td>\n",
       "      <td>4.9</td>\n",
       "    </tr>\n",
       "  </tbody>\n",
       "</table>\n",
       "<p>5 rows × 52 columns</p>\n",
       "</div>"
      ],
      "text/plain": [
       "         AK   AL   AR   AZ   CA   CO   CT   DC   DE   FL ...    SD   TN   TX  \\\n",
       "199001  8.5  6.9  7.5  5.6  5.7  6.2  5.3  5.5  4.6  5.9 ...   4.6  5.6  6.6   \n",
       "199002  8.6  7.5  7.5  5.3  5.6  5.9  5.3  5.7  4.4  5.7 ...   4.4  5.5  6.6   \n",
       "199003  8.2  6.8    7  5.1  5.4  5.8    5  5.8    4  5.5 ...   4.4  4.9  6.2   \n",
       "199004  7.6  6.3  6.7  5.1  5.4  5.2  4.9  5.6  3.7  5.7 ...   3.8  5.2  6.1   \n",
       "199005  7.2  6.2  6.7  5.1  5.2  5.1    5    6  3.4  5.7 ...   3.8    5  6.2   \n",
       "\n",
       "         UT   VA   VT   WA   WI   WV   WY  \n",
       "199001  4.8  4.5  5.2  6.3  5.1  8.8  6.9  \n",
       "199002    5  4.2  5.3  6.5  5.2  8.9  6.6  \n",
       "199003  4.7  3.9  5.4  5.8  5.1    8  6.3  \n",
       "199004  4.5  3.7  5.3  5.1  4.3  7.8  5.5  \n",
       "199005  4.4    4  4.8    5  3.8  7.7  4.9  \n",
       "\n",
       "[5 rows x 52 columns]"
      ]
     },
     "execution_count": 10,
     "metadata": {},
     "output_type": "execute_result"
    }
   ],
   "source": [
    "states = state_uer.State.unique()\n",
    "state_uer_long = pd.DataFrame(index = temp_index, columns = states)\n",
    "for mrp in temp_index:\n",
    "    mrp_slice = state_uer.loc[mrp]\n",
    "    for state in states:\n",
    "        state_slice = mrp_slice.loc[mrp_slice['State']==state]\n",
    "        state_uer_long.loc[mrp,state] = state_slice.UnemploymentRate.values[0]\n",
    "state_uer_long.head()"
   ]
  },
  {
   "cell_type": "code",
   "execution_count": 11,
   "metadata": {},
   "outputs": [
    {
     "data": {
      "text/html": [
       "<div>\n",
       "<style>\n",
       "    .dataframe thead tr:only-child th {\n",
       "        text-align: right;\n",
       "    }\n",
       "\n",
       "    .dataframe thead th {\n",
       "        text-align: left;\n",
       "    }\n",
       "\n",
       "    .dataframe tbody tr th {\n",
       "        vertical-align: top;\n",
       "    }\n",
       "</style>\n",
       "<table border=\"1\" class=\"dataframe\">\n",
       "  <thead>\n",
       "    <tr style=\"text-align: right;\">\n",
       "      <th></th>\n",
       "      <th>AK</th>\n",
       "      <th>AL</th>\n",
       "      <th>AR</th>\n",
       "      <th>AZ</th>\n",
       "      <th>CA</th>\n",
       "      <th>CO</th>\n",
       "      <th>CT</th>\n",
       "      <th>DC</th>\n",
       "      <th>DE</th>\n",
       "      <th>FL</th>\n",
       "      <th>...</th>\n",
       "      <th>TX</th>\n",
       "      <th>UT</th>\n",
       "      <th>VA</th>\n",
       "      <th>VT</th>\n",
       "      <th>WA</th>\n",
       "      <th>WI</th>\n",
       "      <th>WV</th>\n",
       "      <th>WY</th>\n",
       "      <th>VI</th>\n",
       "      <th>GU</th>\n",
       "    </tr>\n",
       "  </thead>\n",
       "  <tbody>\n",
       "    <tr>\n",
       "      <th>199001</th>\n",
       "      <td>8.5</td>\n",
       "      <td>6.9</td>\n",
       "      <td>7.5</td>\n",
       "      <td>5.6</td>\n",
       "      <td>5.7</td>\n",
       "      <td>6.2</td>\n",
       "      <td>5.3</td>\n",
       "      <td>5.5</td>\n",
       "      <td>4.6</td>\n",
       "      <td>5.9</td>\n",
       "      <td>...</td>\n",
       "      <td>6.6</td>\n",
       "      <td>4.8</td>\n",
       "      <td>4.5</td>\n",
       "      <td>5.2</td>\n",
       "      <td>6.3</td>\n",
       "      <td>5.1</td>\n",
       "      <td>8.8</td>\n",
       "      <td>6.9</td>\n",
       "      <td>5.4</td>\n",
       "      <td>5.4</td>\n",
       "    </tr>\n",
       "    <tr>\n",
       "      <th>199002</th>\n",
       "      <td>8.6</td>\n",
       "      <td>7.5</td>\n",
       "      <td>7.5</td>\n",
       "      <td>5.3</td>\n",
       "      <td>5.6</td>\n",
       "      <td>5.9</td>\n",
       "      <td>5.3</td>\n",
       "      <td>5.7</td>\n",
       "      <td>4.4</td>\n",
       "      <td>5.7</td>\n",
       "      <td>...</td>\n",
       "      <td>6.6</td>\n",
       "      <td>5</td>\n",
       "      <td>4.2</td>\n",
       "      <td>5.3</td>\n",
       "      <td>6.5</td>\n",
       "      <td>5.2</td>\n",
       "      <td>8.9</td>\n",
       "      <td>6.6</td>\n",
       "      <td>5.3</td>\n",
       "      <td>5.3</td>\n",
       "    </tr>\n",
       "    <tr>\n",
       "      <th>199003</th>\n",
       "      <td>8.2</td>\n",
       "      <td>6.8</td>\n",
       "      <td>7</td>\n",
       "      <td>5.1</td>\n",
       "      <td>5.4</td>\n",
       "      <td>5.8</td>\n",
       "      <td>5</td>\n",
       "      <td>5.8</td>\n",
       "      <td>4</td>\n",
       "      <td>5.5</td>\n",
       "      <td>...</td>\n",
       "      <td>6.2</td>\n",
       "      <td>4.7</td>\n",
       "      <td>3.9</td>\n",
       "      <td>5.4</td>\n",
       "      <td>5.8</td>\n",
       "      <td>5.1</td>\n",
       "      <td>8</td>\n",
       "      <td>6.3</td>\n",
       "      <td>5.2</td>\n",
       "      <td>5.2</td>\n",
       "    </tr>\n",
       "    <tr>\n",
       "      <th>199004</th>\n",
       "      <td>7.6</td>\n",
       "      <td>6.3</td>\n",
       "      <td>6.7</td>\n",
       "      <td>5.1</td>\n",
       "      <td>5.4</td>\n",
       "      <td>5.2</td>\n",
       "      <td>4.9</td>\n",
       "      <td>5.6</td>\n",
       "      <td>3.7</td>\n",
       "      <td>5.7</td>\n",
       "      <td>...</td>\n",
       "      <td>6.1</td>\n",
       "      <td>4.5</td>\n",
       "      <td>3.7</td>\n",
       "      <td>5.3</td>\n",
       "      <td>5.1</td>\n",
       "      <td>4.3</td>\n",
       "      <td>7.8</td>\n",
       "      <td>5.5</td>\n",
       "      <td>5.4</td>\n",
       "      <td>5.4</td>\n",
       "    </tr>\n",
       "    <tr>\n",
       "      <th>199005</th>\n",
       "      <td>7.2</td>\n",
       "      <td>6.2</td>\n",
       "      <td>6.7</td>\n",
       "      <td>5.1</td>\n",
       "      <td>5.2</td>\n",
       "      <td>5.1</td>\n",
       "      <td>5</td>\n",
       "      <td>6</td>\n",
       "      <td>3.4</td>\n",
       "      <td>5.7</td>\n",
       "      <td>...</td>\n",
       "      <td>6.2</td>\n",
       "      <td>4.4</td>\n",
       "      <td>4</td>\n",
       "      <td>4.8</td>\n",
       "      <td>5</td>\n",
       "      <td>3.8</td>\n",
       "      <td>7.7</td>\n",
       "      <td>4.9</td>\n",
       "      <td>5.4</td>\n",
       "      <td>5.4</td>\n",
       "    </tr>\n",
       "  </tbody>\n",
       "</table>\n",
       "<p>5 rows × 54 columns</p>\n",
       "</div>"
      ],
      "text/plain": [
       "         AK   AL   AR   AZ   CA   CO   CT   DC   DE   FL ...    TX   UT   VA  \\\n",
       "199001  8.5  6.9  7.5  5.6  5.7  6.2  5.3  5.5  4.6  5.9 ...   6.6  4.8  4.5   \n",
       "199002  8.6  7.5  7.5  5.3  5.6  5.9  5.3  5.7  4.4  5.7 ...   6.6    5  4.2   \n",
       "199003  8.2  6.8    7  5.1  5.4  5.8    5  5.8    4  5.5 ...   6.2  4.7  3.9   \n",
       "199004  7.6  6.3  6.7  5.1  5.4  5.2  4.9  5.6  3.7  5.7 ...   6.1  4.5  3.7   \n",
       "199005  7.2  6.2  6.7  5.1  5.2  5.1    5    6  3.4  5.7 ...   6.2  4.4    4   \n",
       "\n",
       "         VT   WA   WI   WV   WY   VI   GU  \n",
       "199001  5.2  6.3  5.1  8.8  6.9  5.4  5.4  \n",
       "199002  5.3  6.5  5.2  8.9  6.6  5.3  5.3  \n",
       "199003  5.4  5.8  5.1    8  6.3  5.2  5.2  \n",
       "199004  5.3  5.1  4.3  7.8  5.5  5.4  5.4  \n",
       "199005  4.8    5  3.8  7.7  4.9  5.4  5.4  \n",
       "\n",
       "[5 rows x 54 columns]"
      ]
     },
     "execution_count": 11,
     "metadata": {},
     "output_type": "execute_result"
    }
   ],
   "source": [
    "us_colonies = ['VI','PR','GU']\n",
    "for colony in us_colonies:\n",
    "    state_uer_long[colony] = uer['Unemployment']\n",
    "state_uer_long.head()\n",
    "                           "
   ]
  },
  {
   "cell_type": "code",
   "execution_count": 12,
   "metadata": {},
   "outputs": [
    {
     "data": {
      "text/html": [
       "<div>\n",
       "<style>\n",
       "    .dataframe thead tr:only-child th {\n",
       "        text-align: right;\n",
       "    }\n",
       "\n",
       "    .dataframe thead th {\n",
       "        text-align: left;\n",
       "    }\n",
       "\n",
       "    .dataframe tbody tr th {\n",
       "        vertical-align: top;\n",
       "    }\n",
       "</style>\n",
       "<table border=\"1\" class=\"dataframe\">\n",
       "  <thead>\n",
       "    <tr style=\"text-align: right;\">\n",
       "      <th></th>\n",
       "      <th>uer</th>\n",
       "      <th>state</th>\n",
       "    </tr>\n",
       "  </thead>\n",
       "  <tbody>\n",
       "    <tr>\n",
       "      <th>199001</th>\n",
       "      <td>8.5</td>\n",
       "      <td>AK</td>\n",
       "    </tr>\n",
       "    <tr>\n",
       "      <th>199002</th>\n",
       "      <td>8.6</td>\n",
       "      <td>AK</td>\n",
       "    </tr>\n",
       "    <tr>\n",
       "      <th>199003</th>\n",
       "      <td>8.2</td>\n",
       "      <td>AK</td>\n",
       "    </tr>\n",
       "    <tr>\n",
       "      <th>199004</th>\n",
       "      <td>7.6</td>\n",
       "      <td>AK</td>\n",
       "    </tr>\n",
       "    <tr>\n",
       "      <th>199005</th>\n",
       "      <td>7.2</td>\n",
       "      <td>AK</td>\n",
       "    </tr>\n",
       "  </tbody>\n",
       "</table>\n",
       "</div>"
      ],
      "text/plain": [
       "        uer state\n",
       "199001  8.5    AK\n",
       "199002  8.6    AK\n",
       "199003  8.2    AK\n",
       "199004  7.6    AK\n",
       "199005  7.2    AK"
      ]
     },
     "execution_count": 12,
     "metadata": {},
     "output_type": "execute_result"
    }
   ],
   "source": [
    "index = state_uer_long.index\n",
    "lyst = []\n",
    "for state in state_uer_long.columns:\n",
    "    series1 = state_uer_long[state]\n",
    "    series1.name='uer'\n",
    "    series2 = pd.Series(state, index=index)\n",
    "    series2.name = 'state'\n",
    "    frame = pd.concat([series1, series2], axis=1)\n",
    "    lyst.append(frame)\n",
    "state_uer = pd.concat(lyst)\n",
    "state_uer.head()"
   ]
  },
  {
   "cell_type": "code",
   "execution_count": 13,
   "metadata": {
    "collapsed": true,
    "scrolled": false
   },
   "outputs": [],
   "source": [
    "tuples = zip(state_uer.index,state_uer.state.values)\n",
    "index1 = pd.MultiIndex.from_tuples(tuples,names = ['monthly reporting period','property state'])\n",
    "u_multi = pd.Series(state_uer.uer.values,index=index1,name='unemployment')"
   ]
  },
  {
   "cell_type": "code",
   "execution_count": 14,
   "metadata": {},
   "outputs": [
    {
     "data": {
      "text/plain": [
       "monthly reporting period  property state\n",
       "199001                    AK                8.5\n",
       "199002                    AK                8.6\n",
       "199003                    AK                8.2\n",
       "199004                    AK                7.6\n",
       "199005                    AK                7.2\n",
       "Name: unemployment, dtype: object"
      ]
     },
     "execution_count": 14,
     "metadata": {},
     "output_type": "execute_result"
    }
   ],
   "source": [
    "u_multi.head()"
   ]
  },
  {
   "cell_type": "code",
   "execution_count": 15,
   "metadata": {
    "collapsed": true,
    "scrolled": false
   },
   "outputs": [],
   "source": [
    "hpi_and_uer = pd.concat([s_multi_mp,u_multi], axis=1)"
   ]
  },
  {
   "cell_type": "markdown",
   "metadata": {
    "collapsed": true
   },
   "source": [
    "National unemployment rate. "
   ]
  },
  {
   "cell_type": "code",
   "execution_count": 16,
   "metadata": {
    "collapsed": true,
    "scrolled": false
   },
   "outputs": [],
   "source": [
    "def cleaner(year):\n",
    "    odf = pd.read_csv('samples/sample_orig_%i.txt'%year, delimiter = '|', header = None, na_values='   ', \n",
    "                      usecols = [0,1,5,8,10,16,18,19,20,21], names = ['credit score','first payment date','mi %','original cltv','original upb', 'property state','postal code', 'loan sequence number', 'loan purpose','original loan term'])\n",
    "    odf['>300?'] = np.where(odf['original loan term']>300, True, False)\n",
    "    odf = odf.join(s_multi_orig, how='left', on=['first payment date', 'property state'])\n",
    "    mpdf = pd.read_csv('samples/sample_svcg_%i.txt'%year, delimiter = '|', header = None, usecols = [0,1,2,3,4,10], \n",
    "                       na_values =['R','XX', '   ', '  '], names = ['loan sequence number', 'monthly reporting period', 'current actual upb', 'current loan delinquency status', 'loan age', 'current interest rate'])\n",
    "    mpdf = mpdf.assign(del_lead = mpdf['current loan delinquency status'].shift(-1))\n",
    "    mpdf = mpdf.assign(delinquent = mpdf['del_lead'] >1.0)\n",
    "    #we consider a mortgage to be delinquent when the payment is 60 or more days behind schedule. \n",
    "    mpdf = mpdf.loc[mpdf['current loan delinquency status'].isin([0,1])]\n",
    "    #this step restricts our consideration to current loans\n",
    "    #thus the 'delinquent' variable indicates a loan transitioning from current to delinquent in the next month. \n",
    "    df = mpdf.join(odf.set_index('loan sequence number'), on=('loan sequence number'), how='left')\n",
    "    longs = df.loc[df['>300?']]\n",
    "    longs = longs.merge(prim30, how='left', left_on='monthly reporting period', right_index=True)\n",
    "    shorts = df.loc[~df['>300?']]\n",
    "    shorts = shorts.merge(prim15, how='left', left_on='monthly reporting period', right_index=True)\n",
    "    df = pd.concat([longs, shorts])\n",
    "    df = df.join(s_multi_mp, how='left', on=['monthly reporting period', 'property state'])\n",
    "    df = df.join(u_multi, how='left', on=['monthly reporting period', 'property state'])\n",
    "    return df"
   ]
  },
  {
   "cell_type": "code",
   "execution_count": 18,
   "metadata": {
    "collapsed": true,
    "scrolled": false
   },
   "outputs": [],
   "source": [
    "liszt = []\n",
    "for i in range(2005,2013):\n",
    "    frame = cleaner(i)\n",
    "    liszt.append(frame)"
   ]
  },
  {
   "cell_type": "code",
   "execution_count": 19,
   "metadata": {},
   "outputs": [
    {
     "data": {
      "text/plain": [
       "{2005: 4.511254797551952,\n",
       " 2006: 6.935527031905699,\n",
       " 2007: 8.410648928480667,\n",
       " 2008: 5.812298233665583,\n",
       " 2009: 1.0212614264661666,\n",
       " 2010: 0.7230691387625104,\n",
       " 2011: 0.574533110738059,\n",
       " 2012: 0.24776016218387692}"
      ]
     },
     "execution_count": 19,
     "metadata": {},
     "output_type": "execute_result"
    }
   ],
   "source": [
    "delinquency_percent_by_vintage = {}\n",
    "for i in range(8):\n",
    "    year = 2005+i\n",
    "    rate = liszt[i].delinquent.astype(int).mean()\n",
    "    a_rate = rate*12*100\n",
    "    delinquency_percent_by_vintage[year] = a_rate\n",
    "delinquency_percent_by_vintage"
   ]
  },
  {
   "cell_type": "code",
   "execution_count": 20,
   "metadata": {
    "collapsed": true,
    "scrolled": false
   },
   "outputs": [],
   "source": [
    "df = pd.concat(liszt)"
   ]
  },
  {
   "cell_type": "code",
   "execution_count": 21,
   "metadata": {
    "collapsed": true,
    "scrolled": false
   },
   "outputs": [],
   "source": [
    "df['present year'] = df['monthly reporting period'].values/100"
   ]
  },
  {
   "cell_type": "code",
   "execution_count": 22,
   "metadata": {},
   "outputs": [
    {
     "data": {
      "text/plain": [
       "2012    2440245\n",
       "2011    2374610\n",
       "2010    2213674\n",
       "2013    2127713\n",
       "2009    2030140\n",
       "2014    1824836\n",
       "2008    1767635\n",
       "2015    1606144\n",
       "2007    1306049\n",
       "2016    1281824\n",
       "2006     801899\n",
       "2005     255625\n",
       "Name: present year, dtype: int64"
      ]
     },
     "execution_count": 22,
     "metadata": {},
     "output_type": "execute_result"
    }
   ],
   "source": [
    "df['present year'].value_counts()"
   ]
  },
  {
   "cell_type": "markdown",
   "metadata": {},
   "source": [
    "Let's take a look at what the dataframe looks like. "
   ]
  },
  {
   "cell_type": "code",
   "execution_count": 27,
   "metadata": {},
   "outputs": [
    {
     "data": {
      "text/html": [
       "<div>\n",
       "<style>\n",
       "    .dataframe thead tr:only-child th {\n",
       "        text-align: right;\n",
       "    }\n",
       "\n",
       "    .dataframe thead th {\n",
       "        text-align: left;\n",
       "    }\n",
       "\n",
       "    .dataframe tbody tr th {\n",
       "        vertical-align: top;\n",
       "    }\n",
       "</style>\n",
       "<table border=\"1\" class=\"dataframe\">\n",
       "  <thead>\n",
       "    <tr style=\"text-align: right;\">\n",
       "      <th></th>\n",
       "      <th>loan sequence number</th>\n",
       "      <th>monthly reporting period</th>\n",
       "      <th>current actual upb</th>\n",
       "      <th>current loan delinquency status</th>\n",
       "      <th>loan age</th>\n",
       "      <th>current interest rate</th>\n",
       "      <th>del_lead</th>\n",
       "      <th>delinquent</th>\n",
       "      <th>credit score</th>\n",
       "      <th>first payment date</th>\n",
       "      <th>...</th>\n",
       "      <th>property state</th>\n",
       "      <th>postal code</th>\n",
       "      <th>loan purpose</th>\n",
       "      <th>original loan term</th>\n",
       "      <th>&gt;300?</th>\n",
       "      <th>original hpa</th>\n",
       "      <th>Rate (Avg)</th>\n",
       "      <th>current hpa</th>\n",
       "      <th>unemployment</th>\n",
       "      <th>present year</th>\n",
       "    </tr>\n",
       "  </thead>\n",
       "  <tbody>\n",
       "    <tr>\n",
       "      <th>0</th>\n",
       "      <td>F105Q1000064</td>\n",
       "      <td>200503</td>\n",
       "      <td>62000.00</td>\n",
       "      <td>0.0</td>\n",
       "      <td>0</td>\n",
       "      <td>5.75</td>\n",
       "      <td>0.0</td>\n",
       "      <td>False</td>\n",
       "      <td>722.0</td>\n",
       "      <td>200504</td>\n",
       "      <td>...</td>\n",
       "      <td>WA</td>\n",
       "      <td>98200.0</td>\n",
       "      <td>P</td>\n",
       "      <td>360</td>\n",
       "      <td>True</td>\n",
       "      <td>1.02052</td>\n",
       "      <td>6.105</td>\n",
       "      <td>1.020950</td>\n",
       "      <td>6</td>\n",
       "      <td>2005</td>\n",
       "    </tr>\n",
       "    <tr>\n",
       "      <th>1</th>\n",
       "      <td>F105Q1000064</td>\n",
       "      <td>200504</td>\n",
       "      <td>62000.00</td>\n",
       "      <td>0.0</td>\n",
       "      <td>1</td>\n",
       "      <td>5.75</td>\n",
       "      <td>0.0</td>\n",
       "      <td>False</td>\n",
       "      <td>722.0</td>\n",
       "      <td>200504</td>\n",
       "      <td>...</td>\n",
       "      <td>WA</td>\n",
       "      <td>98200.0</td>\n",
       "      <td>P</td>\n",
       "      <td>360</td>\n",
       "      <td>True</td>\n",
       "      <td>1.02052</td>\n",
       "      <td>6.010</td>\n",
       "      <td>1.020520</td>\n",
       "      <td>5.5</td>\n",
       "      <td>2005</td>\n",
       "    </tr>\n",
       "    <tr>\n",
       "      <th>2</th>\n",
       "      <td>F105Q1000064</td>\n",
       "      <td>200505</td>\n",
       "      <td>62000.00</td>\n",
       "      <td>0.0</td>\n",
       "      <td>2</td>\n",
       "      <td>5.75</td>\n",
       "      <td>0.0</td>\n",
       "      <td>False</td>\n",
       "      <td>722.0</td>\n",
       "      <td>200504</td>\n",
       "      <td>...</td>\n",
       "      <td>WA</td>\n",
       "      <td>98200.0</td>\n",
       "      <td>P</td>\n",
       "      <td>360</td>\n",
       "      <td>True</td>\n",
       "      <td>1.02052</td>\n",
       "      <td>5.870</td>\n",
       "      <td>1.020107</td>\n",
       "      <td>5.4</td>\n",
       "      <td>2005</td>\n",
       "    </tr>\n",
       "    <tr>\n",
       "      <th>3</th>\n",
       "      <td>F105Q1000064</td>\n",
       "      <td>200506</td>\n",
       "      <td>62000.00</td>\n",
       "      <td>0.0</td>\n",
       "      <td>3</td>\n",
       "      <td>5.75</td>\n",
       "      <td>0.0</td>\n",
       "      <td>False</td>\n",
       "      <td>722.0</td>\n",
       "      <td>200504</td>\n",
       "      <td>...</td>\n",
       "      <td>WA</td>\n",
       "      <td>98200.0</td>\n",
       "      <td>P</td>\n",
       "      <td>360</td>\n",
       "      <td>True</td>\n",
       "      <td>1.02052</td>\n",
       "      <td>5.730</td>\n",
       "      <td>1.017330</td>\n",
       "      <td>5.5</td>\n",
       "      <td>2005</td>\n",
       "    </tr>\n",
       "    <tr>\n",
       "      <th>4</th>\n",
       "      <td>F105Q1000064</td>\n",
       "      <td>200507</td>\n",
       "      <td>62000.00</td>\n",
       "      <td>0.0</td>\n",
       "      <td>4</td>\n",
       "      <td>5.75</td>\n",
       "      <td>0.0</td>\n",
       "      <td>False</td>\n",
       "      <td>722.0</td>\n",
       "      <td>200504</td>\n",
       "      <td>...</td>\n",
       "      <td>WA</td>\n",
       "      <td>98200.0</td>\n",
       "      <td>P</td>\n",
       "      <td>360</td>\n",
       "      <td>True</td>\n",
       "      <td>1.02052</td>\n",
       "      <td>5.833</td>\n",
       "      <td>1.017078</td>\n",
       "      <td>5.3</td>\n",
       "      <td>2005</td>\n",
       "    </tr>\n",
       "    <tr>\n",
       "      <th>5</th>\n",
       "      <td>F105Q1000064</td>\n",
       "      <td>200508</td>\n",
       "      <td>62000.00</td>\n",
       "      <td>0.0</td>\n",
       "      <td>5</td>\n",
       "      <td>5.75</td>\n",
       "      <td>0.0</td>\n",
       "      <td>False</td>\n",
       "      <td>722.0</td>\n",
       "      <td>200504</td>\n",
       "      <td>...</td>\n",
       "      <td>WA</td>\n",
       "      <td>98200.0</td>\n",
       "      <td>P</td>\n",
       "      <td>360</td>\n",
       "      <td>True</td>\n",
       "      <td>1.02052</td>\n",
       "      <td>5.953</td>\n",
       "      <td>1.016791</td>\n",
       "      <td>5.3</td>\n",
       "      <td>2005</td>\n",
       "    </tr>\n",
       "    <tr>\n",
       "      <th>6</th>\n",
       "      <td>F105Q1000064</td>\n",
       "      <td>200509</td>\n",
       "      <td>61000.00</td>\n",
       "      <td>0.0</td>\n",
       "      <td>6</td>\n",
       "      <td>5.75</td>\n",
       "      <td>0.0</td>\n",
       "      <td>False</td>\n",
       "      <td>722.0</td>\n",
       "      <td>200504</td>\n",
       "      <td>...</td>\n",
       "      <td>WA</td>\n",
       "      <td>98200.0</td>\n",
       "      <td>P</td>\n",
       "      <td>360</td>\n",
       "      <td>True</td>\n",
       "      <td>1.02052</td>\n",
       "      <td>5.920</td>\n",
       "      <td>1.005952</td>\n",
       "      <td>5.2</td>\n",
       "      <td>2005</td>\n",
       "    </tr>\n",
       "    <tr>\n",
       "      <th>7</th>\n",
       "      <td>F105Q1000064</td>\n",
       "      <td>200510</td>\n",
       "      <td>61419.22</td>\n",
       "      <td>0.0</td>\n",
       "      <td>7</td>\n",
       "      <td>5.75</td>\n",
       "      <td>0.0</td>\n",
       "      <td>False</td>\n",
       "      <td>722.0</td>\n",
       "      <td>200504</td>\n",
       "      <td>...</td>\n",
       "      <td>WA</td>\n",
       "      <td>98200.0</td>\n",
       "      <td>P</td>\n",
       "      <td>360</td>\n",
       "      <td>True</td>\n",
       "      <td>1.02052</td>\n",
       "      <td>6.203</td>\n",
       "      <td>1.005875</td>\n",
       "      <td>4.9</td>\n",
       "      <td>2005</td>\n",
       "    </tr>\n",
       "    <tr>\n",
       "      <th>8</th>\n",
       "      <td>F105Q1000064</td>\n",
       "      <td>200511</td>\n",
       "      <td>61352.55</td>\n",
       "      <td>0.0</td>\n",
       "      <td>8</td>\n",
       "      <td>5.75</td>\n",
       "      <td>0.0</td>\n",
       "      <td>False</td>\n",
       "      <td>722.0</td>\n",
       "      <td>200504</td>\n",
       "      <td>...</td>\n",
       "      <td>WA</td>\n",
       "      <td>98200.0</td>\n",
       "      <td>P</td>\n",
       "      <td>360</td>\n",
       "      <td>True</td>\n",
       "      <td>1.02052</td>\n",
       "      <td>6.480</td>\n",
       "      <td>1.005882</td>\n",
       "      <td>5.4</td>\n",
       "      <td>2005</td>\n",
       "    </tr>\n",
       "    <tr>\n",
       "      <th>9</th>\n",
       "      <td>F105Q1000064</td>\n",
       "      <td>200512</td>\n",
       "      <td>61285.56</td>\n",
       "      <td>0.0</td>\n",
       "      <td>9</td>\n",
       "      <td>5.75</td>\n",
       "      <td>0.0</td>\n",
       "      <td>False</td>\n",
       "      <td>722.0</td>\n",
       "      <td>200504</td>\n",
       "      <td>...</td>\n",
       "      <td>WA</td>\n",
       "      <td>98200.0</td>\n",
       "      <td>P</td>\n",
       "      <td>360</td>\n",
       "      <td>True</td>\n",
       "      <td>1.02052</td>\n",
       "      <td>6.405</td>\n",
       "      <td>1.011160</td>\n",
       "      <td>5.1</td>\n",
       "      <td>2005</td>\n",
       "    </tr>\n",
       "  </tbody>\n",
       "</table>\n",
       "<p>10 rows × 23 columns</p>\n",
       "</div>"
      ],
      "text/plain": [
       "  loan sequence number  monthly reporting period  current actual upb  \\\n",
       "0         F105Q1000064                    200503            62000.00   \n",
       "1         F105Q1000064                    200504            62000.00   \n",
       "2         F105Q1000064                    200505            62000.00   \n",
       "3         F105Q1000064                    200506            62000.00   \n",
       "4         F105Q1000064                    200507            62000.00   \n",
       "5         F105Q1000064                    200508            62000.00   \n",
       "6         F105Q1000064                    200509            61000.00   \n",
       "7         F105Q1000064                    200510            61419.22   \n",
       "8         F105Q1000064                    200511            61352.55   \n",
       "9         F105Q1000064                    200512            61285.56   \n",
       "\n",
       "   current loan delinquency status  loan age  current interest rate  del_lead  \\\n",
       "0                              0.0         0                   5.75       0.0   \n",
       "1                              0.0         1                   5.75       0.0   \n",
       "2                              0.0         2                   5.75       0.0   \n",
       "3                              0.0         3                   5.75       0.0   \n",
       "4                              0.0         4                   5.75       0.0   \n",
       "5                              0.0         5                   5.75       0.0   \n",
       "6                              0.0         6                   5.75       0.0   \n",
       "7                              0.0         7                   5.75       0.0   \n",
       "8                              0.0         8                   5.75       0.0   \n",
       "9                              0.0         9                   5.75       0.0   \n",
       "\n",
       "   delinquent  credit score  first payment date      ...       property state  \\\n",
       "0       False         722.0              200504      ...                   WA   \n",
       "1       False         722.0              200504      ...                   WA   \n",
       "2       False         722.0              200504      ...                   WA   \n",
       "3       False         722.0              200504      ...                   WA   \n",
       "4       False         722.0              200504      ...                   WA   \n",
       "5       False         722.0              200504      ...                   WA   \n",
       "6       False         722.0              200504      ...                   WA   \n",
       "7       False         722.0              200504      ...                   WA   \n",
       "8       False         722.0              200504      ...                   WA   \n",
       "9       False         722.0              200504      ...                   WA   \n",
       "\n",
       "   postal code  loan purpose original loan term  >300? original hpa  \\\n",
       "0      98200.0             P                360   True      1.02052   \n",
       "1      98200.0             P                360   True      1.02052   \n",
       "2      98200.0             P                360   True      1.02052   \n",
       "3      98200.0             P                360   True      1.02052   \n",
       "4      98200.0             P                360   True      1.02052   \n",
       "5      98200.0             P                360   True      1.02052   \n",
       "6      98200.0             P                360   True      1.02052   \n",
       "7      98200.0             P                360   True      1.02052   \n",
       "8      98200.0             P                360   True      1.02052   \n",
       "9      98200.0             P                360   True      1.02052   \n",
       "\n",
       "   Rate (Avg)  current hpa  unemployment  present year  \n",
       "0       6.105     1.020950             6          2005  \n",
       "1       6.010     1.020520           5.5          2005  \n",
       "2       5.870     1.020107           5.4          2005  \n",
       "3       5.730     1.017330           5.5          2005  \n",
       "4       5.833     1.017078           5.3          2005  \n",
       "5       5.953     1.016791           5.3          2005  \n",
       "6       5.920     1.005952           5.2          2005  \n",
       "7       6.203     1.005875           4.9          2005  \n",
       "8       6.480     1.005882           5.4          2005  \n",
       "9       6.405     1.011160           5.1          2005  \n",
       "\n",
       "[10 rows x 23 columns]"
      ]
     },
     "execution_count": 27,
     "metadata": {},
     "output_type": "execute_result"
    }
   ],
   "source": [
    "df.head(10)"
   ]
  },
  {
   "cell_type": "code",
   "execution_count": 45,
   "metadata": {},
   "outputs": [
    {
     "data": {
      "text/plain": [
       "Index([u'loan sequence number', u'monthly reporting period',\n",
       "       u'current actual upb', u'current loan delinquency status', u'loan age',\n",
       "       u'current interest rate', u'del_lead', u'delinquent', u'credit score',\n",
       "       u'first payment date', u'mi %', u'original cltv', u'original upb',\n",
       "       u'property state', u'postal code', u'loan purpose',\n",
       "       u'original loan term', u'>300?', u'original hpa', u'Rate (Avg)',\n",
       "       u'current hpa', u'unemployment', u'present year', u'zip region'],\n",
       "      dtype='object')"
      ]
     },
     "execution_count": 45,
     "metadata": {},
     "output_type": "execute_result"
    }
   ],
   "source": [
    "df.columns"
   ]
  },
  {
   "cell_type": "markdown",
   "metadata": {},
   "source": [
    "Its length is just over 20 million rows. I have found that adding more years' worth of mortgage data to this notebook begins to critically overload the code's searching and selection capabilities, suggesting some upper-limit to how large a dataframe a 'casual' implementation supports. Of course, a dataframe with mixed datatypes (especially strings) is more taxing on processing speed. And splitting an even larger dataframe into smaller pieces provides a workaround. "
   ]
  },
  {
   "cell_type": "markdown",
   "metadata": {},
   "source": [
    "The avg. yearly delinquency rates by year."
   ]
  },
  {
   "cell_type": "code",
   "execution_count": 28,
   "metadata": {
    "scrolled": true
   },
   "outputs": [
    {
     "data": {
      "text/plain": [
       "{2005: 0.771828209308778,\n",
       " 2006: 1.0647286778550868,\n",
       " 2007: 1.9125113053031995,\n",
       " 2008: 3.6948321226777714,\n",
       " 2009: 6.313376476088539,\n",
       " 2010: 5.271154698128722,\n",
       " 2011: 4.114185329333586,\n",
       " 2012: 3.2836112820197716,\n",
       " 2013: 3.1327222350745254,\n",
       " 2014: 3.02362769086425,\n",
       " 2015: 2.8533856491696596,\n",
       " 2016: 2.9421871252138354}"
      ]
     },
     "execution_count": 28,
     "metadata": {},
     "output_type": "execute_result"
    }
   ],
   "source": [
    "delinquency_percent_per_annum = []\n",
    "for i in range(2005, 2017):\n",
    "    slyce = df.loc[df['present year']==i]\n",
    "    rate = slyce.delinquent.astype(int).mean()\n",
    "    a_rate = 100*(1-(1-rate)**12)\n",
    "    delinquency_percent_per_annum.append(a_rate)\n",
    "annum_key = {}\n",
    "for i in range(0,12):\n",
    "    year = 2005+i\n",
    "    annum_key[year] = delinquency_percent_per_annum[i]\n",
    "annum_key"
   ]
  },
  {
   "cell_type": "code",
   "execution_count": 29,
   "metadata": {
    "collapsed": true
   },
   "outputs": [],
   "source": [
    "import matplotlib.pyplot as plt"
   ]
  },
  {
   "cell_type": "markdown",
   "metadata": {},
   "source": [
    "Note: By multiplying the quarterly probability of delinquency by 3, we obtain a (rather good) estimate of the quarterly rate 'proper' (analogous to the compound interest calculation).  "
   ]
  },
  {
   "cell_type": "code",
   "execution_count": 30,
   "metadata": {
    "collapsed": true,
    "scrolled": false
   },
   "outputs": [],
   "source": [
    "delinquency_percent_per_quarter = []\n",
    "for i in range(2005, 2017):\n",
    "    l = []\n",
    "    for j in range(1,13):\n",
    "        mrp = 100*i + j\n",
    "        slyce = df.loc[df['monthly reporting period']==mrp]\n",
    "        rate = slyce.delinquent.astype(int).mean()\n",
    "        a_rate = 100*rate\n",
    "        l.append(a_rate)\n",
    "    for k in range(0,4):\n",
    "        b = 3*k\n",
    "        q_rate = 3*(np.mean(l[b:b+3]))\n",
    "        delinquency_percent_per_quarter.append(q_rate)"
   ]
  },
  {
   "cell_type": "code",
   "execution_count": 31,
   "metadata": {
    "collapsed": true,
    "scrolled": false
   },
   "outputs": [],
   "source": [
    "quarter_key = {}\n",
    "for i in range(12):\n",
    "    year = str(i + 2005)\n",
    "    for j in range(4):\n",
    "        quarter = 'Q' + str(j+1)\n",
    "        index = i+j\n",
    "        name = year+quarter\n",
    "        quarter_key[name] = delinquency_percent_per_quarter[i+j]    "
   ]
  },
  {
   "cell_type": "code",
   "execution_count": 32,
   "metadata": {},
   "outputs": [
    {
     "data": {
      "image/png": "[encoded data removed]",
      "text/plain": [
       "<matplotlib.figure.Figure at 0x7fb19ffed990>"
      ]
     },
     "metadata": {},
     "output_type": "display_data"
    }
   ],
   "source": [
    "a_ran = np.arange(2005,2017,0.25)\n",
    "plt.bar(a_ran, delinquency_percent_per_quarter, color='b', align='edge', width=0.2)\n",
    "plt.ylabel('Quarter Avg. % Delinquent')\n",
    "plt.title('Mortgage Delinquency, Loans of Vintage 2005-2012')\n",
    "plt.xlabel('quarters')\n",
    "plt.show()"
   ]
  },
  {
   "cell_type": "markdown",
   "metadata": {},
   "source": [
    "Seems plausible. Observe the local spike at the end of 2005--this is the effect of Hurricane Katrina. "
   ]
  },
  {
   "cell_type": "markdown",
   "metadata": {},
   "source": [
    "We plot out some macroeconomic trends. "
   ]
  },
  {
   "cell_type": "code",
   "execution_count": 33,
   "metadata": {},
   "outputs": [
    {
     "data": {
      "image/png": "[encoded data removed]",
      "text/plain": [
       "<matplotlib.figure.Figure at 0x7fb19cef41d0>"
      ]
     },
     "metadata": {},
     "output_type": "display_data"
    }
   ],
   "source": [
    "quarter_avg_uer = []\n",
    "for i in range(2005, 2017):\n",
    "    l = []\n",
    "    for j in range(1,13):\n",
    "        mrp = 100*i + j\n",
    "        unemp = uer.loc[mrp, 'Unemployment']\n",
    "        l.append(unemp)\n",
    "    for k in range(0,4):\n",
    "        b = 3*k\n",
    "        q_uer = (np.mean(l[b:b+3]))\n",
    "        quarter_avg_uer.append(q_uer)\n",
    "a_ran = np.arange(2005,2017,0.25)\n",
    "plt.bar(a_ran, quarter_avg_uer, color='k', align='edge', width=0.2)\n",
    "plt.title('Quarterly Avg. Unemployment, 2005-2016')\n",
    "plt.ylabel('percent')\n",
    "plt.xlabel('quarters')\n",
    "plt.show()"
   ]
  },
  {
   "cell_type": "markdown",
   "metadata": {},
   "source": [
    "The period of peak unemployment coincides with the period of peak delinquency. Recall that the delinquency data here is perhaps artificially low in the first two years. "
   ]
  },
  {
   "cell_type": "code",
   "execution_count": 34,
   "metadata": {},
   "outputs": [
    {
     "data": {
      "image/png": "[encoded data removed]",
      "text/plain": [
       "<matplotlib.figure.Figure at 0x7fb19cd14290>"
      ]
     },
     "metadata": {},
     "output_type": "display_data"
    }
   ],
   "source": [
    "national_hpa = state_hpas.loc[state_hpas.state=='VI']\n",
    "quarter_avg_hpa = []\n",
    "for i in range(2005, 2017):\n",
    "    l = []\n",
    "    for j in range(1,13):\n",
    "        mrp = 100*i + j\n",
    "        hpa = national_hpa.loc[mrp, 'hpa']\n",
    "        l.append(hpa)\n",
    "    for k in range(0,4):\n",
    "        b = 3*k\n",
    "        q_hpa = (np.mean(l[b:b+3]))\n",
    "        quarter_avg_hpa.append(q_hpa)\n",
    "a_ran = np.arange(2005,2017,0.25)\n",
    "plt.bar(a_ran, quarter_avg_hpa, color='g', align='edge', width=0.2)\n",
    "plt.title('Quarterly Avg. National HPA, 2005-2016')\n",
    "plt.ylim(0.985,1.015)\n",
    "plt.ylabel('home price appreciation')\n",
    "plt.xlabel('quarters')\n",
    "plt.show()"
   ]
  },
  {
   "cell_type": "markdown",
   "metadata": {},
   "source": [
    "What if we modify the data slightly? Instead of plotting HPA, we plot *depreciation.* (Take one minus quarterly average HPA.) "
   ]
  },
  {
   "cell_type": "markdown",
   "metadata": {},
   "source": [
    "What is the relationship between loan age and delinquency, hmm?"
   ]
  },
  {
   "cell_type": "code",
   "execution_count": 39,
   "metadata": {
    "collapsed": true,
    "scrolled": false
   },
   "outputs": [],
   "source": [
    "del_by_age = []\n",
    "bin_count = []\n",
    "for i in range(0,100):\n",
    "    age_slice = df.loc[df['loan age']==i]\n",
    "    bin_count.append(len(age_slice))\n",
    "    rate = age_slice.delinquent.astype(int).mean()\n",
    "    del_by_age.append(rate)"
   ]
  },
  {
   "cell_type": "code",
   "execution_count": 40,
   "metadata": {},
   "outputs": [
    {
     "data": {
      "image/png": "[encoded data removed]",
      "text/plain": [
       "<matplotlib.figure.Figure at 0x7fb19cdd8b50>"
      ]
     },
     "metadata": {},
     "output_type": "display_data"
    }
   ],
   "source": [
    "plt.bar(range(100), del_by_age, color='b', align='edge', width=0.32)\n",
    "plt.ylabel('Monthly  Avg. Rate Delinquent')\n",
    "plt.title('Mortgage Delinquency by age, vintage 2005-2012')\n",
    "plt.xlabel('months')\n",
    "plt.show()"
   ]
  },
  {
   "cell_type": "markdown",
   "metadata": {},
   "source": [
    "Realistically, this effect is coming in great part from vintage and not loan age per se. Loans dating from before the crisis are considerably more likely to go delinquent."
   ]
  },
  {
   "cell_type": "markdown",
   "metadata": {},
   "source": [
    "A regional breakdown:"
   ]
  },
  {
   "cell_type": "code",
   "execution_count": 41,
   "metadata": {
    "collapsed": true,
    "scrolled": false
   },
   "outputs": [],
   "source": [
    "df['zip region'] = df['postal code'].values // 10000"
   ]
  },
  {
   "cell_type": "code",
   "execution_count": 42,
   "metadata": {
    "collapsed": true,
    "scrolled": false
   },
   "outputs": [],
   "source": [
    "yearly_del_by_region = []\n",
    "for i in range(10):\n",
    "    yearly_dels = []\n",
    "    slyce = df.loc[df['zip region']==i]\n",
    "    for y in range(2005,2017):\n",
    "        y_bin = slyce.loc[slyce['present year']==y]\n",
    "        rate = 100*12*y_bin.delinquent.astype(int).mean()\n",
    "        yearly_dels.append(rate)\n",
    "    yearly_del_by_region.append(yearly_dels)"
   ]
  },
  {
   "cell_type": "code",
   "execution_count": 43,
   "metadata": {
    "collapsed": true,
    "scrolled": false
   },
   "outputs": [],
   "source": [
    "zip_key = [\"PR, NJ, & New England\", \"NY,PA,DE\",\"Mid-Atlantic\",\"South East\",\"Near Midwest\",\"North Plains\",\"Central Plains\",\"South\",\"Rockies\",\"Pacific\"]"
   ]
  },
  {
   "cell_type": "code",
   "execution_count": 44,
   "metadata": {},
   "outputs": [
    {
     "data": {
      "image/png": "[encoded data removed]",
      "text/plain": [
       "<matplotlib.figure.Figure at 0x7fb19cd341d0>"
      ]
     },
     "metadata": {},
     "output_type": "display_data"
    },
    {
     "data": {
      "image/png": "[encoded data removed]",
      "text/plain": [
       "<matplotlib.figure.Figure at 0x7fb19c0bd650>"
      ]
     },
     "metadata": {},
     "output_type": "display_data"
    },
    {
     "data": {
      "image/png": "[encoded data removed]",
      "text/plain": [
       "<matplotlib.figure.Figure at 0x7fb19c974950>"
      ]
     },
     "metadata": {},
     "output_type": "display_data"
    },
    {
     "data": {
      "image/png": "[encoded data removed]",
      "text/plain": [
       "<matplotlib.figure.Figure at 0x7fb19c7126d0>"
      ]
     },
     "metadata": {},
     "output_type": "display_data"
    },
    {
     "data": {
      "image/png": "[encoded data removed]",
      "text/plain": [
       "<matplotlib.figure.Figure at 0x7fb19cce8d90>"
      ]
     },
     "metadata": {},
     "output_type": "display_data"
    },
    {
     "data": {
      "image/png": "[encoded data removed]",
      "text/plain": [
       "<matplotlib.figure.Figure at 0x7fb1a05e8bd0>"
      ]
     },
     "metadata": {},
     "output_type": "display_data"
    },
    {
     "data": {
      "image/png": "[encoded data removed]",
      "text/plain": [
       "<matplotlib.figure.Figure at 0x7fb19cdaa8d0>"
      ]
     },
     "metadata": {},
     "output_type": "display_data"
    },
    {
     "data": {
      "image/png": "[encoded data removed]",
      "text/plain": [
       "<matplotlib.figure.Figure at 0x7fb19c91d450>"
      ]
     },
     "metadata": {},
     "output_type": "display_data"
    },
    {
     "data": {
      "image/png": "[encoded data removed]",
      "text/plain": [
       "<matplotlib.figure.Figure at 0x7fb19c737310>"
      ]
     },
     "metadata": {},
     "output_type": "display_data"
    },
    {
     "data": {
      "image/png": "[encoded data removed]",
      "text/plain": [
       "<matplotlib.figure.Figure at 0x7fb19c90f690>"
      ]
     },
     "metadata": {},
     "output_type": "display_data"
    }
   ],
   "source": [
    "for i in range(10):\n",
    "    plt.plot(range(2005,2017),yearly_del_by_region[i],'rd',label='regional rate')\n",
    "    plt.plot(range(2005,2017),delinquency_percent_per_annum,'kx',label='national rate')\n",
    "    plt.title('Delinquency by Year in '+zip_key[i])\n",
    "    plt.xlim(2005,2017)\n",
    "    plt.ylim(-1,11)\n",
    "    plt.legend(loc=1)\n",
    "    plt.ylabel('yearly c-to-d percentage')\n",
    "    plt.show()"
   ]
  },
  {
   "cell_type": "markdown",
   "metadata": {},
   "source": [
    "It appears that there's not much regional variation in the year-to-year trends of delinquency. "
   ]
  },
  {
   "cell_type": "code",
   "execution_count": 6,
   "metadata": {
    "collapsed": true
   },
   "outputs": [],
   "source": [
    "#### extra features"
   ]
  },
  {
   "cell_type": "markdown",
   "metadata": {},
   "source": [
    "#### Classifier"
   ]
  },
  {
   "cell_type": "markdown",
   "metadata": {
    "collapsed": true,
    "scrolled": false
   },
   "source": [
    "#### df['factor'] = df['current actual upb'].values/df['original upb'].values"
   ]
  },
  {
   "cell_type": "code",
   "execution_count": 48,
   "metadata": {
    "collapsed": true,
    "scrolled": false
   },
   "outputs": [],
   "source": [
    "df['coupon ratio'] = df['current interest rate'].values/df['Rate (Avg)'].values"
   ]
  },
  {
   "cell_type": "code",
   "execution_count": 49,
   "metadata": {
    "collapsed": true,
    "scrolled": false
   },
   "outputs": [],
   "source": [
    "df_sample = df.sample(frac = 0.2, random_state = 88)"
   ]
  },
  {
   "cell_type": "code",
   "execution_count": 50,
   "metadata": {},
   "outputs": [
    {
     "data": {
      "text/plain": [
       "4006079"
      ]
     },
     "execution_count": 50,
     "metadata": {},
     "output_type": "execute_result"
    }
   ],
   "source": [
    "len(df_sample)"
   ]
  },
  {
   "cell_type": "markdown",
   "metadata": {},
   "source": [
    "Naturally, sampling the dataset makes the algorithm run faster. There appears to be some point where the volume of points fed into the model overwhelms the computer's RAM. A speedy implementation of the model makes tuning the parameters considerably easier.\n",
    "\n",
    "After taking a subset of all data points, I further split the data into a training set and a test set. The model's performance (e.g., AUC score) on a test set, which it hasn't seen before, indicates how the model would perform on 'new' data. Comparison of test and training set AUC is a good test of whether the implementation is overfitting or not. "
   ]
  },
  {
   "cell_type": "code",
   "execution_count": 51,
   "metadata": {
    "collapsed": true,
    "scrolled": false
   },
   "outputs": [],
   "source": [
    "features = ['loan age', 'credit score', 'unemployment', 'original cltv', 'coupon ratio', 'factor', 'current hpa']\n",
    "df_train = df_sample.sample(frac = 0.8, random_state = 89)\n",
    "df_test = df_sample.drop(df_train.index)\n",
    "X_train = df_train[features]\n",
    "y_train = df_train['delinquent'].astype(int)\n",
    "X_test = df_test[features]\n",
    "y_test = df_test['delinquent'].astype(int)"
   ]
  },
  {
   "cell_type": "code",
   "execution_count": 52,
   "metadata": {
    "collapsed": true,
    "scrolled": false
   },
   "outputs": [],
   "source": [
    "from sklearn.preprocessing import Imputer\n",
    "imp = Imputer()\n",
    "imp.fit(X_train)\n",
    "X_train = imp.transform(X_train)\n",
    "\n",
    "imp = Imputer()\n",
    "imp.fit(X_test)\n",
    "X_test = imp.transform(X_test)"
   ]
  },
  {
   "cell_type": "markdown",
   "metadata": {},
   "source": [
    "The Random Forest algorithm is the result of a 'vote' of an ensemble of decision trees that each attempt to classify a dataset into two categories (in this case, loans that will go delinquent and loans that won't). At each 'branch,' a decision tree 'maximally' splits data with respect to a random subset of features, until it has divided the data into a number of 'leaves' from which it calculates probabilities.\n",
    "\n",
    "Without specifying some parameters that limit the complexity of each decision tree, Random Forests are rather susceptible to overfitting. "
   ]
  },
  {
   "cell_type": "code",
   "execution_count": 54,
   "metadata": {},
   "outputs": [
    {
     "data": {
      "text/plain": [
       "'Random Forest training set auc vs test set auc is'"
      ]
     },
     "metadata": {},
     "output_type": "display_data"
    },
    {
     "data": {
      "text/plain": [
       "0.85758801070778079"
      ]
     },
     "metadata": {},
     "output_type": "display_data"
    },
    {
     "data": {
      "text/plain": [
       "0.8484009737342203"
      ]
     },
     "metadata": {},
     "output_type": "display_data"
    }
   ],
   "source": [
    "from sklearn.ensemble import RandomForestClassifier\n",
    "rf = RandomForestClassifier(n_estimators = 40, min_samples_leaf = 25000, max_leaf_nodes=120, max_depth=15, n_jobs=-1)\n",
    "rf.fit(X_train, y_train)\n",
    "\n",
    "#max_leaf_nodes=20, min_samples_leaf=3000\n",
    "\n",
    "from sklearn import metrics\n",
    "y_train_score = rf.predict_proba(X_train)[:,1]\n",
    "y_test_score = rf.predict_proba(X_test)[:,1]\n",
    "display('Random Forest training set auc vs test set auc is', metrics.roc_auc_score(y_train, y_train_score), metrics.roc_auc_score(y_test, y_test_score))"
   ]
  },
  {
   "cell_type": "markdown",
   "metadata": {},
   "source": [
    "Not bad."
   ]
  },
  {
   "cell_type": "code",
   "execution_count": 55,
   "metadata": {},
   "outputs": [
    {
     "data": {
      "text/plain": [
       "{'coupon ratio': 0.086002083955949854,\n",
       " 'credit score': 0.56972213602141886,\n",
       " 'current hpa': 0.0098381535034969096,\n",
       " 'factor': 0.10884070122280283,\n",
       " 'loan age': 0.14423197050162967,\n",
       " 'original cltv': 0.036234320600552865,\n",
       " 'unemployment': 0.045130634194149179}"
      ]
     },
     "execution_count": 55,
     "metadata": {},
     "output_type": "execute_result"
    }
   ],
   "source": [
    "d = {}\n",
    "for i in range(len(features)):\n",
    "    d[features[i]] = rf.feature_importances_[i]\n",
    "d"
   ]
  },
  {
   "cell_type": "markdown",
   "metadata": {},
   "source": [
    "The random forest algorithm comes with a direct, natural measure of a feature's importance in a classification problem, namely, how often the algorithm chooses to split the data by a given variable. Here we see that credit score figured in a bit more than half of all branches in the ensemble. "
   ]
  },
  {
   "cell_type": "markdown",
   "metadata": {},
   "source": [
    "I plot, for each feature, separated into 20 bins, the actual probability (frequency) of delinquency and estimated probabilities on the training and test sets. "
   ]
  },
  {
   "cell_type": "code",
   "execution_count": 54,
   "metadata": {},
   "outputs": [
    {
     "data": {
      "image/png": "[encoded data removed]",
      "text/plain": [
       "<matplotlib.figure.Figure at 0x7f98e7aaf350>"
      ]
     },
     "metadata": {},
     "output_type": "display_data"
    },
    {
     "data": {
      "image/png": "[encoded data removed]",
      "text/plain": [
       "<matplotlib.figure.Figure at 0x7f998bf351d0>"
      ]
     },
     "metadata": {},
     "output_type": "display_data"
    },
    {
     "data": {
      "image/png": "[encoded data removed]",
      "text/plain": [
       "<matplotlib.figure.Figure at 0x7f98fc510f90>"
      ]
     },
     "metadata": {},
     "output_type": "display_data"
    },
    {
     "data": {
      "image/png": "[encoded data removed]",
      "text/plain": [
       "<matplotlib.figure.Figure at 0x7f98f934d190>"
      ]
     },
     "metadata": {},
     "output_type": "display_data"
    },
    {
     "data": {
      "image/png": "[encoded data removed]",
      "text/plain": [
       "<matplotlib.figure.Figure at 0x7f98ff8225d0>"
      ]
     },
     "metadata": {},
     "output_type": "display_data"
    },
    {
     "data": {
      "image/png": "[encoded data removed]",
      "text/plain": [
       "<matplotlib.figure.Figure at 0x7f98fc5d9fd0>"
      ]
     },
     "metadata": {},
     "output_type": "display_data"
    },
    {
     "data": {
      "image/png": "[encoded data removed]",
      "text/plain": [
       "<matplotlib.figure.Figure at 0x7f98ff727590>"
      ]
     },
     "metadata": {},
     "output_type": "display_data"
    }
   ],
   "source": [
    "for feature in features:\n",
    "    floor = df[feature].quantile(0.1)\n",
    "    ceiling = df[feature].quantile(0.9)\n",
    "    a = np.linspace(floor, ceiling, 21)\n",
    "    \n",
    "    test = df_test[[feature, 'delinquent']]\n",
    "    test['probs'] = rf.predict_proba(X_test)[:,1]\n",
    "    \n",
    "    train = df_train[[feature, 'delinquent']]\n",
    "    train['probs'] = rf.predict_proba(X_train)[:,1]\n",
    "    \n",
    "    sample = df_sample[[feature, 'delinquent']]\n",
    "    \n",
    "    def test_prob():\n",
    "        l = []\n",
    "        for i in range(len(a) - 1):\n",
    "            lower = a[i]\n",
    "            upper = a[i+1]\n",
    "            bin_i = test.loc[test[feature].between(lower,upper)]\n",
    "            avg = (bin_i['probs'].values.sum())/len(bin_i['probs'].values)\n",
    "            l.append(avg)\n",
    "        return l\n",
    "    \n",
    "    def train_prob():\n",
    "        l = []\n",
    "        for i in range(len(a) - 1):\n",
    "            lower = a[i]\n",
    "            upper = a[i+1]\n",
    "            bin_i = train.loc[train[feature].between(lower,upper)]\n",
    "            avg = (bin_i['probs'].values.sum())/len(bin_i['probs'].values)\n",
    "            l.append(avg)\n",
    "        return l\n",
    "    \n",
    "    def true_prob():\n",
    "        l = []\n",
    "        for i in range(len(a)-1):\n",
    "            lower = a[i]\n",
    "            upper = a[i+1]\n",
    "            bin_i = sample.loc[sample[feature].between(lower,upper)]\n",
    "            s = bin_i['delinquent'].astype(int).mean()\n",
    "            l.append(s)\n",
    "        return l\n",
    "    \n",
    "    plt.hlines(test_prob(), a[:-1], a[1:], color = 'r', linestyle = \"--\", label = \"Test Avg\" )\n",
    "    plt.hlines(true_prob(), a[:-1], a[1:], label = \"Actual Avg\")\n",
    "    plt.hlines(train_prob(),a[:-1], a[1:], color = 'b', linestyle = ':', label = 'Train Avg' )\n",
    "    plt.legend(loc = 1)\n",
    "    plt.xlabel(feature)\n",
    "    plt.title('Random Forest Delinquency Prediction')\n",
    "    plt.ylabel('Probability of Going Delinquent?')\n",
    "    plt.show()  "
   ]
  },
  {
   "cell_type": "markdown",
   "metadata": {},
   "source": [
    "How does a logistic regression with minimal tinkering perform?"
   ]
  },
  {
   "cell_type": "code",
   "execution_count": 56,
   "metadata": {},
   "outputs": [
    {
     "data": {
      "text/plain": [
       "'logit coefficients are: '"
      ]
     },
     "metadata": {},
     "output_type": "display_data"
    },
    {
     "data": {
      "text/plain": [
       "array([[ 0.0207328 , -0.01191677,  0.15165711,  0.01649132,  0.48464182,\n",
       "         5.35138556, -3.30562063]])"
      ]
     },
     "metadata": {},
     "output_type": "display_data"
    }
   ],
   "source": [
    "import sklearn.linear_model as lr\n",
    "logit = lr.LogisticRegression()\n",
    "\n",
    "logit.fit(X = X_train, y = y_train)\n",
    "\n",
    "display('logit coefficients are: ', logit.coef_)"
   ]
  },
  {
   "cell_type": "code",
   "execution_count": 57,
   "metadata": {},
   "outputs": [
    {
     "data": {
      "text/plain": [
       "'Logistic regression training set auc vs test set auc is'"
      ]
     },
     "metadata": {},
     "output_type": "display_data"
    },
    {
     "data": {
      "text/plain": [
       "0.85060392087285175"
      ]
     },
     "metadata": {},
     "output_type": "display_data"
    },
    {
     "data": {
      "text/plain": [
       "0.84214323388493317"
      ]
     },
     "metadata": {},
     "output_type": "display_data"
    }
   ],
   "source": [
    "y_train_score = logit.predict_proba(X_train)[:,1]\n",
    "y_test_score = logit.predict_proba(X_test)[:,1]\n",
    "display('Logistic regression training set auc vs test set auc is', metrics.roc_auc_score(y_train, y_train_score), metrics.roc_auc_score(y_test, y_test_score))"
   ]
  },
  {
   "cell_type": "markdown",
   "metadata": {},
   "source": [
    "As it turns out, nearly as well. "
   ]
  },
  {
   "cell_type": "markdown",
   "metadata": {},
   "source": [
    "I make the same three-way comparison graph for logistic-estimated and actual delinquency probabilities. "
   ]
  },
  {
   "cell_type": "code",
   "execution_count": 58,
   "metadata": {},
   "outputs": [
    {
     "data": {
      "image/png": "[encoded data removed]",
      "text/plain": [
       "<matplotlib.figure.Figure at 0x7fb19bfedfd0>"
      ]
     },
     "metadata": {},
     "output_type": "display_data"
    },
    {
     "data": {
      "image/png": "[encoded data removed]",
      "text/plain": [
       "<matplotlib.figure.Figure at 0x7fb19caec790>"
      ]
     },
     "metadata": {},
     "output_type": "display_data"
    },
    {
     "data": {
      "image/png": "[encoded data removed]",
      "text/plain": [
       "<matplotlib.figure.Figure at 0x7fb19c08b2d0>"
      ]
     },
     "metadata": {},
     "output_type": "display_data"
    },
    {
     "data": {
      "image/png": "[encoded data removed]",
      "text/plain": [
       "<matplotlib.figure.Figure at 0x7fb19c6ee150>"
      ]
     },
     "metadata": {},
     "output_type": "display_data"
    },
    {
     "data": {
      "image/png": "[encoded data removed]",
      "text/plain": [
       "<matplotlib.figure.Figure at 0x7fb19c074810>"
      ]
     },
     "metadata": {},
     "output_type": "display_data"
    },
    {
     "data": {
      "image/png": "[encoded data removed]",
      "text/plain": [
       "<matplotlib.figure.Figure at 0x7fb19cc3ced0>"
      ]
     },
     "metadata": {},
     "output_type": "display_data"
    },
    {
     "data": {
      "image/png": "[encoded data removed]",
      "text/plain": [
       "<matplotlib.figure.Figure at 0x7fb19c71e950>"
      ]
     },
     "metadata": {},
     "output_type": "display_data"
    }
   ],
   "source": [
    "for feature in features:\n",
    "    floor = df[feature].quantile(0.1)\n",
    "    ceiling = df[feature].quantile(0.9)\n",
    "    a = np.linspace(floor, ceiling, 21)\n",
    "    \n",
    "    test = df_test[[feature, 'delinquent']]\n",
    "    test['probs'] = logit.predict_proba(X_test)[:,1]\n",
    "    \n",
    "    train = df_train[[feature, 'delinquent']]\n",
    "    train['probs'] = logit.predict_proba(X_train)[:,1]\n",
    "    \n",
    "    sample = df_sample[[feature, 'delinquent']]\n",
    "    \n",
    "    def test_prob():\n",
    "        l = []\n",
    "        for i in range(len(a) - 1):\n",
    "            lower = a[i]\n",
    "            upper = a[i+1]\n",
    "            bin_i = test.loc[test[feature].between(lower,upper)]\n",
    "            avg = (bin_i['probs'].values.sum())/len(bin_i['probs'].values)\n",
    "            l.append(avg)\n",
    "        return l\n",
    "    \n",
    "    def train_prob():\n",
    "        l = []\n",
    "        for i in range(len(a) - 1):\n",
    "            lower = a[i]\n",
    "            upper = a[i+1]\n",
    "            bin_i = train.loc[train[feature].between(lower,upper)]\n",
    "            avg = (bin_i['probs'].values.sum())/len(bin_i['probs'].values)\n",
    "            l.append(avg)\n",
    "        return l\n",
    "    \n",
    "    def true_prob():\n",
    "        l = []\n",
    "        for i in range(len(a)-1):\n",
    "            lower = a[i]\n",
    "            upper = a[i+1]\n",
    "            bin_i = sample.loc[sample[feature].between(lower,upper)]\n",
    "            s = bin_i['delinquent'].astype(int).mean()\n",
    "            l.append(s)\n",
    "        return l\n",
    "    \n",
    "    plt.hlines(test_prob(), a[:-1], a[1:], color = 'r', linestyle = \"--\", label = \"Test Avg\" )\n",
    "    plt.hlines(true_prob(), a[:-1], a[1:], label = \"Actual Avg\")\n",
    "    plt.hlines(train_prob(),a[:-1], a[1:], color = 'b', linestyle = ':', label = 'Train Avg' )\n",
    "    plt.legend(loc = 1)\n",
    "    plt.xlabel(feature)\n",
    "    plt.title('Logit Delinquency Prediction')\n",
    "    plt.ylabel('Probability of Going Delinquent?')\n",
    "    plt.show()  \n",
    "\n",
    "\n",
    "  "
   ]
  },
  {
   "cell_type": "markdown",
   "metadata": {
    "collapsed": true
   },
   "source": [
    "Conclusion: At a glance, it seems that a logistical regression and random forest perform nearly equally on the delinquency problem. However, I've found that on a larger data sample (i.e., 50% of all entries rather than 20%), a random forest (with appropriate parameters) begins to outperform a logistic regression. This advantage is offset by the fact that the random forest starts slowing down excessively on large training sets.\n",
    "\n",
    "There is no obvious measure of feature importance in a logistic regression, unlike in a random forest. (Though normlalizing the variables to the same scale and considering coefficients should solve this issue.) The principal trade off between a RF classification and logit is where the work comes in. Logit seems to benefit mainly from feature-engineering, responding poorly to non-linear/'fainter' variables. (Compare RF's response to factor and HPA, which adheres more closely to actual probabilities than logit.) Conversely, optimizing a random forest requires a lot of tinkering with parameters, which can become tedious/inefficient if the algorithm itself runs slowly."
   ]
  }
 ],
 "metadata": {
  "kernelspec": {
   "display_name": "Python 3",
   "language": "python",
   "name": "python3"
  },
  "language_info": {
   "codemirror_mode": {
    "name": "ipython",
    "version": 3
   },
   "file_extension": ".py",
   "mimetype": "text/x-python",
   "name": "python",
   "nbconvert_exporter": "python",
   "pygments_lexer": "ipython3",
   "version": "3.6.3"
  }
 },
 "nbformat": 4,
 "nbformat_minor": 2
}
